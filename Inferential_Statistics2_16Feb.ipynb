{
 "cells": [
  {
   "cell_type": "markdown",
   "id": "72644ea9",
   "metadata": {},
   "source": [
    "## F-Test:\n",
    "\n",
    "#### Purpose: \n",
    "\n",
    "Compares variances of two or more <b>populations</b>.\n",
    "\n",
    "#### Test statistic: \n",
    "\n",
    "F statistic, it measures ratio of variance between groups to the variance within groups.\n",
    "\n",
    "#### Null Hypothesis(H0):\n",
    "\n",
    "Null hyposthesis for the F-test depends on the specific application, Variances of the populations being compared are equal.\n",
    "\n",
    "#### Alternative Hypothesis(H1):\n",
    "\n",
    "The alternative hyposthesis typically states that the variances of the populations compared are not equal.\n",
    "\n",
    "#### Assumptions:\n",
    "\n",
    "1. The populations being compared should be approximately normally distributed.\n",
    "\n",
    "2. Each observation should be independent of any other observation.\n",
    "\n",
    "#### What Output represents:\n",
    "\n",
    "Indicates whether there is a significant difference in variances between poulations."
   ]
  },
  {
   "cell_type": "markdown",
   "id": "6f710aaf",
   "metadata": {},
   "source": [
    "### ANOVA:(Analysis of Variance)\n",
    "\n",
    "#### Purpose:\n",
    "\n",
    "is used to analyze the differences in means among three or more groups. It determines whether there are statistically significant differences among the means of three or more independent groups.\n",
    "\n",
    "#### Test Statistic: \n",
    "\n",
    "F statistic.\n",
    "\n",
    "#### Null Hypothesis (H0):\n",
    "\n",
    "There is no significant difference among means of groups being compared.\n",
    "\n",
    "#### Alternate hypothesis (H1):\n",
    "\n",
    "There is a significant difference among the means of the groups.\n",
    "\n",
    "#### Assumptions:\n",
    "\n",
    "Independence, Normality within groups.\n",
    "\n",
    "#### Output:\n",
    "\n",
    "ANOVA provides info on whether there are significant differences among group means."
   ]
  },
  {
   "cell_type": "markdown",
   "id": "15dc560f",
   "metadata": {},
   "source": [
    "##### Group -> 3 Groups A, B, C\n",
    "##### Scores"
   ]
  },
  {
   "cell_type": "code",
   "execution_count": 3,
   "id": "7a7dac4a",
   "metadata": {},
   "outputs": [],
   "source": [
    "import pandas as pd"
   ]
  },
  {
   "cell_type": "code",
   "execution_count": 4,
   "id": "65446a88",
   "metadata": {},
   "outputs": [
    {
     "data": {
      "text/html": [
       "<div>\n",
       "<style scoped>\n",
       "    .dataframe tbody tr th:only-of-type {\n",
       "        vertical-align: middle;\n",
       "    }\n",
       "\n",
       "    .dataframe tbody tr th {\n",
       "        vertical-align: top;\n",
       "    }\n",
       "\n",
       "    .dataframe thead th {\n",
       "        text-align: right;\n",
       "    }\n",
       "</style>\n",
       "<table border=\"1\" class=\"dataframe\">\n",
       "  <thead>\n",
       "    <tr style=\"text-align: right;\">\n",
       "      <th></th>\n",
       "      <th>Group</th>\n",
       "      <th>Scores</th>\n",
       "    </tr>\n",
       "  </thead>\n",
       "  <tbody>\n",
       "    <tr>\n",
       "      <th>0</th>\n",
       "      <td>A</td>\n",
       "      <td>80</td>\n",
       "    </tr>\n",
       "    <tr>\n",
       "      <th>1</th>\n",
       "      <td>A</td>\n",
       "      <td>75</td>\n",
       "    </tr>\n",
       "    <tr>\n",
       "      <th>2</th>\n",
       "      <td>A</td>\n",
       "      <td>90</td>\n",
       "    </tr>\n",
       "    <tr>\n",
       "      <th>3</th>\n",
       "      <td>A</td>\n",
       "      <td>85</td>\n",
       "    </tr>\n",
       "    <tr>\n",
       "      <th>4</th>\n",
       "      <td>B</td>\n",
       "      <td>95</td>\n",
       "    </tr>\n",
       "    <tr>\n",
       "      <th>5</th>\n",
       "      <td>B</td>\n",
       "      <td>92</td>\n",
       "    </tr>\n",
       "    <tr>\n",
       "      <th>6</th>\n",
       "      <td>B</td>\n",
       "      <td>88</td>\n",
       "    </tr>\n",
       "    <tr>\n",
       "      <th>7</th>\n",
       "      <td>B</td>\n",
       "      <td>90</td>\n",
       "    </tr>\n",
       "    <tr>\n",
       "      <th>8</th>\n",
       "      <td>C</td>\n",
       "      <td>78</td>\n",
       "    </tr>\n",
       "    <tr>\n",
       "      <th>9</th>\n",
       "      <td>C</td>\n",
       "      <td>82</td>\n",
       "    </tr>\n",
       "    <tr>\n",
       "      <th>10</th>\n",
       "      <td>C</td>\n",
       "      <td>75</td>\n",
       "    </tr>\n",
       "    <tr>\n",
       "      <th>11</th>\n",
       "      <td>C</td>\n",
       "      <td>80</td>\n",
       "    </tr>\n",
       "  </tbody>\n",
       "</table>\n",
       "</div>"
      ],
      "text/plain": [
       "   Group  Scores\n",
       "0      A      80\n",
       "1      A      75\n",
       "2      A      90\n",
       "3      A      85\n",
       "4      B      95\n",
       "5      B      92\n",
       "6      B      88\n",
       "7      B      90\n",
       "8      C      78\n",
       "9      C      82\n",
       "10     C      75\n",
       "11     C      80"
      ]
     },
     "execution_count": 4,
     "metadata": {},
     "output_type": "execute_result"
    }
   ],
   "source": [
    "data = {\n",
    "    'Group':['A', 'A', 'A', 'A', 'B', 'B', 'B', 'B', 'C', 'C', 'C', 'C',],\n",
    "    'Scores':[80, 75, 90, 85, 95, 92, 88, 90, 78, 82, 75, 80]\n",
    "}\n",
    "\n",
    "df = pd.DataFrame(data)\n",
    "df"
   ]
  },
  {
   "cell_type": "code",
   "execution_count": 5,
   "id": "13851924",
   "metadata": {},
   "outputs": [
    {
     "data": {
      "text/plain": [
       "82.5"
      ]
     },
     "execution_count": 5,
     "metadata": {},
     "output_type": "execute_result"
    }
   ],
   "source": [
    "(df[df['Group']=='A']['Scores']).mean()"
   ]
  },
  {
   "cell_type": "code",
   "execution_count": 6,
   "id": "e0642a3c",
   "metadata": {},
   "outputs": [
    {
     "data": {
      "text/plain": [
       "91.25"
      ]
     },
     "execution_count": 6,
     "metadata": {},
     "output_type": "execute_result"
    }
   ],
   "source": [
    "(df[df['Group']=='B']['Scores']).mean()"
   ]
  },
  {
   "cell_type": "code",
   "execution_count": 7,
   "id": "3702e656",
   "metadata": {},
   "outputs": [
    {
     "data": {
      "text/plain": [
       "78.75"
      ]
     },
     "execution_count": 7,
     "metadata": {},
     "output_type": "execute_result"
    }
   ],
   "source": [
    "(df[df['Group']=='C']['Scores']).mean()"
   ]
  },
  {
   "cell_type": "markdown",
   "id": "c2ac192b",
   "metadata": {},
   "source": [
    "NULL(H0) -> The three groups are having equal mean.\n",
    "\n",
    "Alternate(H1) -> Three groups are having different means."
   ]
  },
  {
   "cell_type": "code",
   "execution_count": 8,
   "id": "288e7a6b",
   "metadata": {},
   "outputs": [],
   "source": [
    "import scipy.stats as st"
   ]
  },
  {
   "cell_type": "code",
   "execution_count": 9,
   "id": "22530a10",
   "metadata": {},
   "outputs": [
    {
     "name": "stdout",
     "output_type": "stream",
     "text": [
      "P-value: 0.009062918473029835\n"
     ]
    }
   ],
   "source": [
    "_, p_val = st.f_oneway(df[df['Group']=='A']['Scores'],\n",
    "                   df[df['Group']=='B']['Scores'],\n",
    "                   df[df['Group']=='C']['Scores'])\n",
    "\n",
    "print('P-value:', p_val)"
   ]
  },
  {
   "cell_type": "code",
   "execution_count": 10,
   "id": "6713da2d",
   "metadata": {},
   "outputs": [
    {
     "name": "stdout",
     "output_type": "stream",
     "text": [
      "The three groups are having different means.\n"
     ]
    }
   ],
   "source": [
    "if p_val > 0.05:\n",
    "    print('The three groups are having equal mean.')\n",
    "else:\n",
    "    print('The three groups are having different means.')"
   ]
  },
  {
   "cell_type": "markdown",
   "id": "fd0f2913",
   "metadata": {},
   "source": [
    "###### A botanist investigates the effects of three different fertilizers (A, B, and C) on plant height. They randomly select 10 plants for each fertilizer and measure their final height after 6 weeks. Use F-oneway ANOVA to analyze the data and answer the following questions:"
   ]
  },
  {
   "cell_type": "markdown",
   "id": "19736912",
   "metadata": {},
   "source": [
    "Null(H0): The mean heights of plants across all fertilizer groups are equal.\n",
    "    \n",
    "Alternate: Mean heights of plants differ across atleast one group."
   ]
  },
  {
   "cell_type": "code",
   "execution_count": 9,
   "id": "e3df65c6",
   "metadata": {},
   "outputs": [
    {
     "data": {
      "text/plain": [
       "[10, 20, 30, 40, 50, 60, 70, 80, 90, 100]"
      ]
     },
     "execution_count": 9,
     "metadata": {},
     "output_type": "execute_result"
    }
   ],
   "source": [
    "heights_a = [x for x in range(10, 101, 10)]\n",
    "heights_b = [x for x in range(20, 201, 20)]\n",
    "heights_c = [x for x in range(30, 301, 30)]\n",
    "\n",
    "heights_a"
   ]
  },
  {
   "cell_type": "code",
   "execution_count": 10,
   "id": "cb6cc7b7",
   "metadata": {},
   "outputs": [
    {
     "data": {
      "text/plain": [
       "[20, 40, 60, 80, 100, 120, 140, 160, 180, 200]"
      ]
     },
     "execution_count": 10,
     "metadata": {},
     "output_type": "execute_result"
    }
   ],
   "source": [
    "heights_b"
   ]
  },
  {
   "cell_type": "code",
   "execution_count": 11,
   "id": "e1dc68d1",
   "metadata": {},
   "outputs": [
    {
     "data": {
      "text/plain": [
       "[30, 60, 90, 120, 150, 180, 210, 240, 270, 300]"
      ]
     },
     "execution_count": 11,
     "metadata": {},
     "output_type": "execute_result"
    }
   ],
   "source": [
    "heights_c"
   ]
  },
  {
   "cell_type": "code",
   "execution_count": 12,
   "id": "958797a2",
   "metadata": {},
   "outputs": [
    {
     "data": {
      "text/plain": [
       "(10, 10, 10)"
      ]
     },
     "execution_count": 12,
     "metadata": {},
     "output_type": "execute_result"
    }
   ],
   "source": [
    "len(heights_a), len(heights_b), len(heights_c)"
   ]
  },
  {
   "cell_type": "code",
   "execution_count": 13,
   "id": "16f04a07",
   "metadata": {},
   "outputs": [
    {
     "name": "stdout",
     "output_type": "stream",
     "text": [
      "p-value: 0.0034\n"
     ]
    }
   ],
   "source": [
    "f_stat, p_value = st.f_oneway(heights_a, heights_b, heights_c)\n",
    "\n",
    "print(f\"p-value: {p_value:.4f}\")"
   ]
  },
  {
   "cell_type": "code",
   "execution_count": 14,
   "id": "51012c80",
   "metadata": {},
   "outputs": [
    {
     "data": {
      "text/plain": [
       "7.071428571428572"
      ]
     },
     "execution_count": 14,
     "metadata": {},
     "output_type": "execute_result"
    }
   ],
   "source": [
    "f_stat"
   ]
  },
  {
   "cell_type": "markdown",
   "id": "d12d33cc",
   "metadata": {},
   "source": [
    "##### Question:\n",
    "\n",
    "Does the type of fertilizer or the watering level significantly influence the heights of plants?"
   ]
  },
  {
   "cell_type": "code",
   "execution_count": 15,
   "id": "8e2194f9",
   "metadata": {},
   "outputs": [
    {
     "data": {
      "text/html": [
       "<div>\n",
       "<style scoped>\n",
       "    .dataframe tbody tr th:only-of-type {\n",
       "        vertical-align: middle;\n",
       "    }\n",
       "\n",
       "    .dataframe tbody tr th {\n",
       "        vertical-align: top;\n",
       "    }\n",
       "\n",
       "    .dataframe thead th {\n",
       "        text-align: right;\n",
       "    }\n",
       "</style>\n",
       "<table border=\"1\" class=\"dataframe\">\n",
       "  <thead>\n",
       "    <tr style=\"text-align: right;\">\n",
       "      <th></th>\n",
       "      <th>Fertilizer</th>\n",
       "      <th>Watering</th>\n",
       "      <th>Height</th>\n",
       "    </tr>\n",
       "  </thead>\n",
       "  <tbody>\n",
       "    <tr>\n",
       "      <th>0</th>\n",
       "      <td>Organic</td>\n",
       "      <td>Low</td>\n",
       "      <td>20</td>\n",
       "    </tr>\n",
       "    <tr>\n",
       "      <th>1</th>\n",
       "      <td>Organic</td>\n",
       "      <td>High</td>\n",
       "      <td>22</td>\n",
       "    </tr>\n",
       "    <tr>\n",
       "      <th>2</th>\n",
       "      <td>Organic</td>\n",
       "      <td>Low</td>\n",
       "      <td>21</td>\n",
       "    </tr>\n",
       "    <tr>\n",
       "      <th>3</th>\n",
       "      <td>Organic</td>\n",
       "      <td>High</td>\n",
       "      <td>25</td>\n",
       "    </tr>\n",
       "    <tr>\n",
       "      <th>4</th>\n",
       "      <td>InOrganic</td>\n",
       "      <td>Low</td>\n",
       "      <td>28</td>\n",
       "    </tr>\n",
       "    <tr>\n",
       "      <th>5</th>\n",
       "      <td>InOrganic</td>\n",
       "      <td>High</td>\n",
       "      <td>24</td>\n",
       "    </tr>\n",
       "    <tr>\n",
       "      <th>6</th>\n",
       "      <td>InOrganic</td>\n",
       "      <td>Low</td>\n",
       "      <td>18</td>\n",
       "    </tr>\n",
       "    <tr>\n",
       "      <th>7</th>\n",
       "      <td>InOrganic</td>\n",
       "      <td>High</td>\n",
       "      <td>19</td>\n",
       "    </tr>\n",
       "  </tbody>\n",
       "</table>\n",
       "</div>"
      ],
      "text/plain": [
       "  Fertilizer Watering  Height\n",
       "0    Organic      Low      20\n",
       "1    Organic     High      22\n",
       "2    Organic      Low      21\n",
       "3    Organic     High      25\n",
       "4  InOrganic      Low      28\n",
       "5  InOrganic     High      24\n",
       "6  InOrganic      Low      18\n",
       "7  InOrganic     High      19"
      ]
     },
     "execution_count": 15,
     "metadata": {},
     "output_type": "execute_result"
    }
   ],
   "source": [
    "data = {\n",
    "    'Fertilizer': ['Organic', 'Organic', 'Organic', 'Organic', 'InOrganic', 'InOrganic', 'InOrganic', 'InOrganic'],\n",
    "    'Watering': ['Low', 'High', 'Low', 'High', 'Low', 'High', 'Low', 'High'],\n",
    "    'Height': [20, 22, 21, 25, 28, 24, 18, 19] \n",
    "}\n",
    "\n",
    "df = pd.DataFrame(data)\n",
    "df"
   ]
  },
  {
   "cell_type": "markdown",
   "id": "d3bac206",
   "metadata": {},
   "source": [
    "For Fertilizer:\n",
    "    \n",
    "Null Hypothesis(H0): There is no significant difference in mean height treated with org or inorg fertilizers.\n",
    "\n",
    "Alt: There is a significant difference in the mean height of plants treated with organic and inorganic fertilizers."
   ]
  },
  {
   "cell_type": "code",
   "execution_count": 16,
   "id": "626e233c",
   "metadata": {},
   "outputs": [
    {
     "data": {
      "text/plain": [
       "22.0"
      ]
     },
     "execution_count": 16,
     "metadata": {},
     "output_type": "execute_result"
    }
   ],
   "source": [
    "(df[df['Fertilizer']=='Organic']['Height']).mean()"
   ]
  },
  {
   "cell_type": "code",
   "execution_count": 17,
   "id": "98d478b6",
   "metadata": {},
   "outputs": [
    {
     "data": {
      "text/plain": [
       "22.25"
      ]
     },
     "execution_count": 17,
     "metadata": {},
     "output_type": "execute_result"
    }
   ],
   "source": [
    "(df[df['Fertilizer']=='InOrganic']['Height']).mean()"
   ]
  },
  {
   "cell_type": "markdown",
   "id": "ecb0af0f",
   "metadata": {},
   "source": [
    "For watering:\n",
    "\n",
    "Null Hypothesis: There is no significant difference in mean height of plants with low and high waterning levels.\n",
    "\n",
    "Alternate Hypothesis: There is a significant difference in mean height of plants with low and high waterning levels."
   ]
  },
  {
   "cell_type": "code",
   "execution_count": 18,
   "id": "86b85124",
   "metadata": {},
   "outputs": [
    {
     "data": {
      "text/plain": [
       "21.75"
      ]
     },
     "execution_count": 18,
     "metadata": {},
     "output_type": "execute_result"
    }
   ],
   "source": [
    "(df[df['Watering']=='Low']['Height']).mean()"
   ]
  },
  {
   "cell_type": "code",
   "execution_count": 19,
   "id": "2e53f164",
   "metadata": {},
   "outputs": [
    {
     "data": {
      "text/plain": [
       "22.5"
      ]
     },
     "execution_count": 19,
     "metadata": {},
     "output_type": "execute_result"
    }
   ],
   "source": [
    "(df[df['Watering']=='High']['Height']).mean()"
   ]
  },
  {
   "cell_type": "code",
   "execution_count": 20,
   "id": "1bf54266",
   "metadata": {},
   "outputs": [],
   "source": [
    "# Perform two-way ANOVA:\n",
    "\n",
    "_, p_val_fert = st.f_oneway(df[df['Fertilizer']=='Organic']['Height'],\n",
    "                           df[df['Fertilizer']=='InOrganic']['Height'])\n",
    "\n",
    "_, p_val_watering = st.f_oneway(df[df['Watering']=='Low']['Height'],\n",
    "                               df[df['Watering']=='High']['Height'])"
   ]
  },
  {
   "cell_type": "code",
   "execution_count": 21,
   "id": "ab18195e",
   "metadata": {},
   "outputs": [
    {
     "name": "stdout",
     "output_type": "stream",
     "text": [
      "P-value for fertilizer: 0.9254362527404735\n",
      "P-value for watering: 0.778192439842158\n"
     ]
    }
   ],
   "source": [
    "print(\"P-value for fertilizer:\", p_val_fert)\n",
    "print(\"P-value for watering:\", p_val_watering)"
   ]
  },
  {
   "cell_type": "markdown",
   "id": "8091b101",
   "metadata": {},
   "source": [
    "Therefore the type of fertilizer or watering level does not have a significant effect on plant height in the analysis."
   ]
  },
  {
   "cell_type": "markdown",
   "id": "fc172b22",
   "metadata": {},
   "source": [
    "### Chi-square Test:\n",
    "\n",
    "Purpose: Used to determine if there is a significant association between categorical variables. It assesses whether there is a relationship or association between two cateorical variables.\n",
    "\n",
    "#### Test Statistic: \n",
    "\n",
    "Chi square statistic, measures discrepancy between observed and expected frequencies in data.\n",
    "\n",
    "#### Null Hypothesis:\n",
    "\n",
    "There is no significant association between the categorical variables being analyzed.\n",
    "\n",
    "#### Alternate:\n",
    "\n",
    "There is a significant association\n",
    "\n",
    "#### Output:\n",
    "\n",
    "Chi-square test provides information on whether there is a significant association between the categorical variables being analyzed"
   ]
  },
  {
   "cell_type": "markdown",
   "id": "0dc87f84",
   "metadata": {},
   "source": [
    "#### A Larger chi-square value indicates more difference between observed & expected frequencies"
   ]
  },
  {
   "cell_type": "code",
   "execution_count": 22,
   "id": "34aa86d4",
   "metadata": {},
   "outputs": [
    {
     "data": {
      "text/html": [
       "<div>\n",
       "<style scoped>\n",
       "    .dataframe tbody tr th:only-of-type {\n",
       "        vertical-align: middle;\n",
       "    }\n",
       "\n",
       "    .dataframe tbody tr th {\n",
       "        vertical-align: top;\n",
       "    }\n",
       "\n",
       "    .dataframe thead th {\n",
       "        text-align: right;\n",
       "    }\n",
       "</style>\n",
       "<table border=\"1\" class=\"dataframe\">\n",
       "  <thead>\n",
       "    <tr style=\"text-align: right;\">\n",
       "      <th></th>\n",
       "      <th>No Parent</th>\n",
       "      <th>One Parent</th>\n",
       "      <th>Two Parents</th>\n",
       "    </tr>\n",
       "  </thead>\n",
       "  <tbody>\n",
       "    <tr>\n",
       "      <th>Graduated</th>\n",
       "      <td>50</td>\n",
       "      <td>40</td>\n",
       "      <td>20</td>\n",
       "    </tr>\n",
       "    <tr>\n",
       "      <th>Not graduated</th>\n",
       "      <td>40</td>\n",
       "      <td>50</td>\n",
       "      <td>30</td>\n",
       "    </tr>\n",
       "  </tbody>\n",
       "</table>\n",
       "</div>"
      ],
      "text/plain": [
       "               No Parent  One Parent  Two Parents\n",
       "Graduated             50          40           20\n",
       "Not graduated         40          50           30"
      ]
     },
     "execution_count": 22,
     "metadata": {},
     "output_type": "execute_result"
    }
   ],
   "source": [
    "from scipy.stats import chi2_contingency\n",
    "\n",
    "data = [[50, 40, 20],\n",
    "       [40, 50, 30]]\n",
    "\n",
    "df = pd.DataFrame(data, columns=[\"No Parent\", \"One Parent\", \"Two Parents\"],\n",
    "                 index=[\"Graduated\", \"Not graduated\"])\n",
    "\n",
    "df"
   ]
  },
  {
   "cell_type": "markdown",
   "id": "7dd12bb9",
   "metadata": {},
   "source": [
    "##### dof = (r-1)*(c-1)"
   ]
  },
  {
   "cell_type": "code",
   "execution_count": 24,
   "id": "3d0265ee",
   "metadata": {},
   "outputs": [
    {
     "name": "stdout",
     "output_type": "stream",
     "text": [
      "Chi square stat: 3.7946127946127968\n",
      "Degrees of freedom: 2\n",
      "P-value: 0.14997204074297982\n",
      "Fail to reject null: No evidence of assosiation between both\n"
     ]
    }
   ],
   "source": [
    "chi2, p_val, dof, exp_freq = chi2_contingency(df)\n",
    "\n",
    "print(\"Chi square stat:\", chi2)\n",
    "print(\"Degrees of freedom:\", dof)\n",
    "print(\"P-value:\", p_val)\n",
    "\n",
    "#Significance level\n",
    "alpha = 0.05\n",
    "\n",
    "if p_val <= alpha:\n",
    "    print(\"Reject null hypothesis. Family structure is associated with graduation status\")\n",
    "else:\n",
    "    print(\"Fail to reject null: No evidence of assosiation between both\")"
   ]
  },
  {
   "cell_type": "markdown",
   "id": "8d408938",
   "metadata": {},
   "source": [
    "##### A marketing researcher is studying the preferences of consumers regarding three different flavors of a new energy drink: Lemon-Lime, Berry Blast, and Tropical Punch. The researcher randomly selects 300 consumers and asks them to taste all three flavors of the energy drink. Each consumer is asked to rate their preference for each flavor as either \"Like\", \"Neutral\", or \"Dislike\". The researcher records the following data:\n",
    "\n",
    "Lemon-Lime: Like - 80, Neutral - 60, Dislike - 20\n",
    "\n",
    "Berry Blast: Like - 70, Neutral - 50, Dislike - 30\n",
    "\n",
    "Tropical Punch: Like - 50, Neutral - 40, Dislike - 60"
   ]
  },
  {
   "cell_type": "markdown",
   "id": "da2880a2",
   "metadata": {},
   "source": [
    "Null Hypothesis: No significant association between consumers preferenec and different flavors of drink.\n",
    "\n",
    "Alternate Hypothesis: There is a significant association between consumers preferenec and different flavors of drink."
   ]
  },
  {
   "cell_type": "code",
   "execution_count": 25,
   "id": "461de7ec",
   "metadata": {},
   "outputs": [
    {
     "data": {
      "text/html": [
       "<div>\n",
       "<style scoped>\n",
       "    .dataframe tbody tr th:only-of-type {\n",
       "        vertical-align: middle;\n",
       "    }\n",
       "\n",
       "    .dataframe tbody tr th {\n",
       "        vertical-align: top;\n",
       "    }\n",
       "\n",
       "    .dataframe thead th {\n",
       "        text-align: right;\n",
       "    }\n",
       "</style>\n",
       "<table border=\"1\" class=\"dataframe\">\n",
       "  <thead>\n",
       "    <tr style=\"text-align: right;\">\n",
       "      <th></th>\n",
       "      <th>Like</th>\n",
       "      <th>Neutral</th>\n",
       "      <th>Dislike</th>\n",
       "    </tr>\n",
       "  </thead>\n",
       "  <tbody>\n",
       "    <tr>\n",
       "      <th>Lemon</th>\n",
       "      <td>80</td>\n",
       "      <td>60</td>\n",
       "      <td>20</td>\n",
       "    </tr>\n",
       "    <tr>\n",
       "      <th>Berry</th>\n",
       "      <td>70</td>\n",
       "      <td>50</td>\n",
       "      <td>30</td>\n",
       "    </tr>\n",
       "    <tr>\n",
       "      <th>Tropical</th>\n",
       "      <td>50</td>\n",
       "      <td>40</td>\n",
       "      <td>60</td>\n",
       "    </tr>\n",
       "  </tbody>\n",
       "</table>\n",
       "</div>"
      ],
      "text/plain": [
       "          Like  Neutral  Dislike\n",
       "Lemon       80       60       20\n",
       "Berry       70       50       30\n",
       "Tropical    50       40       60"
      ]
     },
     "execution_count": 25,
     "metadata": {},
     "output_type": "execute_result"
    }
   ],
   "source": [
    "observed = [[80, 60, 20],\n",
    "           [70, 50, 30],\n",
    "           [50, 40, 60]]\n",
    "\n",
    "df = pd.DataFrame(observed, columns=[\"Like\", \"Neutral\", \"Dislike\"],\n",
    "                 index=[\"Lemon\", \"Berry\", \"Tropical\"])\n",
    "\n",
    "df"
   ]
  },
  {
   "cell_type": "code",
   "execution_count": 26,
   "id": "656c95d0",
   "metadata": {},
   "outputs": [],
   "source": [
    "chi2, p, dof, exp = chi2_contingency(df)"
   ]
  },
  {
   "cell_type": "code",
   "execution_count": 27,
   "id": "ec45e722",
   "metadata": {},
   "outputs": [
    {
     "name": "stdout",
     "output_type": "stream",
     "text": [
      "34.1979797979798\n",
      "P-value: 6.786680097378574e-07\n"
     ]
    }
   ],
   "source": [
    "print(chi2)\n",
    "print('P-value:',p)"
   ]
  },
  {
   "cell_type": "code",
   "execution_count": 28,
   "id": "e064b515",
   "metadata": {},
   "outputs": [
    {
     "data": {
      "text/plain": [
       "4"
      ]
     },
     "execution_count": 28,
     "metadata": {},
     "output_type": "execute_result"
    }
   ],
   "source": [
    "dof"
   ]
  },
  {
   "cell_type": "markdown",
   "id": "c9847963",
   "metadata": {},
   "source": [
    "A larger chi square value shows greater diff between observed and expected."
   ]
  },
  {
   "cell_type": "markdown",
   "id": "f1a41b66",
   "metadata": {},
   "source": [
    "##### Reject Null hypothesis, and conclude there is a significant association between consumers flavor preference and different flavors of energy drink"
   ]
  }
 ],
 "metadata": {
  "kernelspec": {
   "display_name": "Python 3",
   "language": "python",
   "name": "python3"
  },
  "language_info": {
   "codemirror_mode": {
    "name": "ipython",
    "version": 3
   },
   "file_extension": ".py",
   "mimetype": "text/x-python",
   "name": "python",
   "nbconvert_exporter": "python",
   "pygments_lexer": "ipython3",
   "version": "3.6.8"
  }
 },
 "nbformat": 4,
 "nbformat_minor": 5
}
