{
  "nbformat": 4,
  "nbformat_minor": 0,
  "metadata": {
    "colab": {
      "provenance": []
    },
    "kernelspec": {
      "name": "python3",
      "display_name": "Python 3"
    },
    "language_info": {
      "name": "python"
    }
  },
  "cells": [
    {
      "cell_type": "markdown",
      "source": [
        "**Numpy Handson**\n",
        "Numpy is upto 50 times more faster than list while working on arrays"
      ],
      "metadata": {
        "id": "JQGtp5oOw-Sm"
      }
    },
    {
      "cell_type": "code",
      "source": [
        "'''1. Create a numpy array with numpy.array module and with a data type integer and float.'''\n",
        "\n",
        "import numpy as np\n",
        "\n",
        "arr1=np.array([1,2,3,4,5],dtype='int')\n",
        "print(arr1)\n",
        "print(arr1.dtype)"
      ],
      "metadata": {
        "colab": {
          "base_uri": "https://localhost:8080/"
        },
        "id": "teDmdZW8ycVX",
        "outputId": "f79b675e-409d-45c6-98a0-0e095748ecea"
      },
      "execution_count": 4,
      "outputs": [
        {
          "output_type": "stream",
          "name": "stdout",
          "text": [
            "[1 2 3 4 5]\n",
            "int64\n"
          ]
        }
      ]
    },
    {
      "cell_type": "code",
      "source": [
        "arr2=np.array([1,2,3,4,5],dtype='float')\n",
        "print(arr2)\n",
        "print(arr2.dtype)"
      ],
      "metadata": {
        "colab": {
          "base_uri": "https://localhost:8080/"
        },
        "id": "TJ6A3ike_hiQ",
        "outputId": "22e9e981-3ed3-4b2e-d66e-6d0edb9f5685"
      },
      "execution_count": 6,
      "outputs": [
        {
          "output_type": "stream",
          "name": "stdout",
          "text": [
            "[1. 2. 3. 4. 5.]\n",
            "float64\n"
          ]
        }
      ]
    },
    {
      "cell_type": "code",
      "source": [
        "arr3=np.array([1.0,2.0,3.0,4.0,5.7])\n",
        "print(arr3.dtype)"
      ],
      "metadata": {
        "colab": {
          "base_uri": "https://localhost:8080/"
        },
        "id": "FBbHaevYAy_K",
        "outputId": "ba87b37f-ff81-4366-b964-b56af1a28ad9"
      },
      "execution_count": 12,
      "outputs": [
        {
          "output_type": "stream",
          "name": "stdout",
          "text": [
            "float64\n"
          ]
        }
      ]
    },
    {
      "cell_type": "code",
      "source": [
        "arr3=np.array([1,2,5.6,6.8,\"Xyz\"])\n",
        "print(arr3)\n",
        "print(arr3.dtype)"
      ],
      "metadata": {
        "colab": {
          "base_uri": "https://localhost:8080/"
        },
        "id": "-bwEYpUz__YP",
        "outputId": "78454942-370e-4fe5-c7f4-f533d19ebee9"
      },
      "execution_count": 8,
      "outputs": [
        {
          "output_type": "stream",
          "name": "stdout",
          "text": [
            "['1' '2' '5.6' '6.8' 'Xyz']\n",
            "<U32\n"
          ]
        }
      ]
    },
    {
      "cell_type": "code",
      "source": [
        "arr3=np.array([\"xyz\",\"abc\",\"pqr\"])\n",
        "print(arr3.dtype)"
      ],
      "metadata": {
        "colab": {
          "base_uri": "https://localhost:8080/"
        },
        "id": "iL6H1RunAYo7",
        "outputId": "a033839d-144c-4a1c-9ed8-518618abce79"
      },
      "execution_count": 10,
      "outputs": [
        {
          "output_type": "stream",
          "name": "stdout",
          "text": [
            "<U3\n"
          ]
        }
      ]
    },
    {
      "cell_type": "code",
      "source": [
        "'''2. Create numpy arrays that have zero, one, two, three, Four dimensions respectively.\n",
        "Also, print the shape and dimensions of the numpy arrays created above.\n",
        "'''\n",
        "\n",
        "arr=np.zeros((2,3),dtype=\"int\")+3\n",
        "arr"
      ],
      "metadata": {
        "colab": {
          "base_uri": "https://localhost:8080/"
        },
        "id": "qMvkW4tyBbxQ",
        "outputId": "d3379d3e-50b8-4a0a-9c47-e4fd9162a8b9"
      },
      "execution_count": 19,
      "outputs": [
        {
          "output_type": "execute_result",
          "data": {
            "text/plain": [
              "array([[3, 3, 3],\n",
              "       [3, 3, 3]])"
            ]
          },
          "metadata": {},
          "execution_count": 19
        }
      ]
    },
    {
      "cell_type": "code",
      "source": [
        "arr=np.ones((4,4),dtype=\"int\")*3\n",
        "arr"
      ],
      "metadata": {
        "colab": {
          "base_uri": "https://localhost:8080/"
        },
        "id": "d5sFVyreCgVf",
        "outputId": "00b2debd-4247-4838-a9c1-da78a32b5643"
      },
      "execution_count": 22,
      "outputs": [
        {
          "output_type": "execute_result",
          "data": {
            "text/plain": [
              "array([[3, 3, 3, 3],\n",
              "       [3, 3, 3, 3],\n",
              "       [3, 3, 3, 3],\n",
              "       [3, 3, 3, 3]])"
            ]
          },
          "metadata": {},
          "execution_count": 22
        }
      ]
    },
    {
      "cell_type": "code",
      "source": [
        "arr=np.full((2,3,),1)\n",
        "arr"
      ],
      "metadata": {
        "colab": {
          "base_uri": "https://localhost:8080/"
        },
        "id": "ppUQYgrDCu-S",
        "outputId": "ee52cba8-30f8-4beb-be19-047db0ee52bc"
      },
      "execution_count": 41,
      "outputs": [
        {
          "output_type": "execute_result",
          "data": {
            "text/plain": [
              "array([[1, 1, 1],\n",
              "       [1, 1, 1]])"
            ]
          },
          "metadata": {},
          "execution_count": 41
        }
      ]
    },
    {
      "cell_type": "code",
      "source": [
        "# use four square brackets\n",
        "\n",
        "arr=np.array([[[[1,1],[1,1],[1,1]]]])\n",
        "arr\n"
      ],
      "metadata": {
        "colab": {
          "base_uri": "https://localhost:8080/"
        },
        "id": "AlmkBaXdC-Ug",
        "outputId": "9346b0d3-7a09-4066-baa1-8a9399a0203f"
      },
      "execution_count": 26,
      "outputs": [
        {
          "output_type": "execute_result",
          "data": {
            "text/plain": [
              "array([[[[1, 1],\n",
              "         [1, 1],\n",
              "         [1, 1]]]])"
            ]
          },
          "metadata": {},
          "execution_count": 26
        }
      ]
    },
    {
      "cell_type": "code",
      "source": [
        "print(arr.ndim)"
      ],
      "metadata": {
        "colab": {
          "base_uri": "https://localhost:8080/"
        },
        "id": "-UsoSUfKDRDL",
        "outputId": "1c175778-8915-4b23-e212-2343181f48da"
      },
      "execution_count": 27,
      "outputs": [
        {
          "output_type": "stream",
          "name": "stdout",
          "text": [
            "4\n"
          ]
        }
      ]
    },
    {
      "cell_type": "code",
      "source": [
        "# how to create 0d array\n",
        "arr=np.array(34)\n",
        "print(arr)\n",
        "print(arr.ndim)\n",
        "\n",
        "# how to create 1d array\n",
        "arr2=np.array([23,45,67,89,90])\n",
        "print(arr2)\n",
        "print(arr2.ndim)"
      ],
      "metadata": {
        "colab": {
          "base_uri": "https://localhost:8080/"
        },
        "id": "K5PTeUW7DamZ",
        "outputId": "380257de-4fe0-48f6-d630-bb27a165e1b4"
      },
      "execution_count": 33,
      "outputs": [
        {
          "output_type": "stream",
          "name": "stdout",
          "text": [
            "34\n",
            "0\n",
            "[23 45 67 89 90]\n",
            "1\n"
          ]
        }
      ]
    },
    {
      "cell_type": "code",
      "source": [
        "'''3. Create a 2x3, 3x3, and 4x4 identity matrix using numpy.'''\n",
        "\n",
        "# in identity matrix all diagnol values will be 1 and all non diagonal values will be 0\n",
        "\n",
        "arr2=np.identity(2,dtype='int')\n",
        "print(arr2)\n",
        "\n",
        "arr3=np.identity(3,dtype='int')\n",
        "print(arr3)\n",
        "\n",
        "arr4=np.identity(4,dtype='int')\n",
        "print(arr4)\n",
        "\n",
        "\n",
        "arr5=np.eye(2,3,dtype='int')\n",
        "print(arr5)"
      ],
      "metadata": {
        "colab": {
          "base_uri": "https://localhost:8080/"
        },
        "id": "GmOZdL_UD8bR",
        "outputId": "9cb0c14c-a784-4374-8109-0c050d524d28"
      },
      "execution_count": 39,
      "outputs": [
        {
          "output_type": "stream",
          "name": "stdout",
          "text": [
            "[[1 0]\n",
            " [0 1]]\n",
            "[[1 0 0]\n",
            " [0 1 0]\n",
            " [0 0 1]]\n",
            "[[1 0 0 0]\n",
            " [0 1 0 0]\n",
            " [0 0 1 0]\n",
            " [0 0 0 1]]\n",
            "[[1 0 0]\n",
            " [0 1 0]]\n"
          ]
        }
      ]
    },
    {
      "cell_type": "code",
      "source": [
        "'''4. Create a numpy array with shape 2x5 that has all the elements as zero.\n",
        "5. Create a numpy array that has the shape 3x5 and all the elements are 5.\n",
        "7. Create a numpy array with a shape 3x3 that has all elements as 1.'''\n",
        "arr=np.full((3,5),5)\n",
        "arr"
      ],
      "metadata": {
        "colab": {
          "base_uri": "https://localhost:8080/"
        },
        "id": "6p9Oyd0CFS_a",
        "outputId": "d1b2974e-f209-49d4-e466-2771e87d3a4b"
      },
      "execution_count": 43,
      "outputs": [
        {
          "output_type": "execute_result",
          "data": {
            "text/plain": [
              "array([[5, 5, 5, 5, 5],\n",
              "       [5, 5, 5, 5, 5],\n",
              "       [5, 5, 5, 5, 5]])"
            ]
          },
          "metadata": {},
          "execution_count": 43
        }
      ]
    },
    {
      "cell_type": "code",
      "source": [
        "'''6. Create a numpy array with random integers in the range 0-100, and the sample size\n",
        "should be 25.'''\n",
        "\n",
        "arr1=np.random.randint(0,101,size=(5,5))\n",
        "print(arr1)"
      ],
      "metadata": {
        "colab": {
          "base_uri": "https://localhost:8080/"
        },
        "id": "im9VOmGbFJi_",
        "outputId": "fbf34632-5397-4a53-f6ae-ea8a90311053"
      },
      "execution_count": 46,
      "outputs": [
        {
          "output_type": "stream",
          "name": "stdout",
          "text": [
            "[[28 76 48 61 69]\n",
            " [97 32 25 57 24]\n",
            " [62 59 96 44 81]\n",
            " [46 90 55 49 22]\n",
            " [42 95 11 99 65]]\n"
          ]
        }
      ]
    },
    {
      "cell_type": "code",
      "source": [
        "#(6,4)=6*4=24\n",
        "\n",
        "arr1=np.random.randint(0,101,25)\n",
        "print(arr1)"
      ],
      "metadata": {
        "colab": {
          "base_uri": "https://localhost:8080/"
        },
        "id": "pzFXHGAEGeCi",
        "outputId": "d64c844e-3146-457f-ed4d-d255162fe16b"
      },
      "execution_count": 47,
      "outputs": [
        {
          "output_type": "stream",
          "name": "stdout",
          "text": [
            "[98 65 43 21 12 29 83  6 27 10 71  4 85  3 44 78 84 28 32 65 56 63 95 87\n",
            " 61]\n"
          ]
        }
      ]
    },
    {
      "cell_type": "code",
      "source": [
        "'''8. Create a numpy array in the shape 2x3 with random integers in the range 0-100.\n",
        "Reshape the array in the shape 3x2 and print the updated shape of the resultant array.'''\n",
        "\n",
        "arr1=np.random.randint(0,101,size=(2,3))\n",
        "print(arr1)"
      ],
      "metadata": {
        "colab": {
          "base_uri": "https://localhost:8080/"
        },
        "id": "rcBhLCo-G1sG",
        "outputId": "5232a8e4-f4c0-4158-dc77-b2b0cf7f6eff"
      },
      "execution_count": 48,
      "outputs": [
        {
          "output_type": "stream",
          "name": "stdout",
          "text": [
            "[[ 0 29 12]\n",
            " [78 55 91]]\n"
          ]
        }
      ]
    },
    {
      "cell_type": "code",
      "source": [
        "newarr=arr1.reshape(3,2)\n",
        "print(newarr)\n"
      ],
      "metadata": {
        "colab": {
          "base_uri": "https://localhost:8080/"
        },
        "id": "kdGEH_DJHnhL",
        "outputId": "e357e7b8-53b4-42c2-dcf0-ffc96a96ab71"
      },
      "execution_count": 49,
      "outputs": [
        {
          "output_type": "stream",
          "name": "stdout",
          "text": [
            "[[ 0 29]\n",
            " [12 78]\n",
            " [55 91]]\n"
          ]
        }
      ]
    },
    {
      "cell_type": "code",
      "source": [
        "arr1=np.array([[1,2,3,4],[4,5,6,6],[7,8,9,9]])\n",
        "print(arr1)\n",
        "print(arr1.shape)\n",
        "\n",
        "# now i want to change the shapw to\n",
        "\n",
        "arr1=arr1.reshape(6,2)\n",
        "print(arr1)"
      ],
      "metadata": {
        "colab": {
          "base_uri": "https://localhost:8080/"
        },
        "id": "MX4dtUbEH_Vm",
        "outputId": "6dad41b8-01d3-473f-b181-67d92a6e374f"
      },
      "execution_count": 56,
      "outputs": [
        {
          "output_type": "stream",
          "name": "stdout",
          "text": [
            "[[1 2 3 4]\n",
            " [4 5 6 6]\n",
            " [7 8 9 9]]\n",
            "(3, 4)\n",
            "[[1 2]\n",
            " [3 4]\n",
            " [4 5]\n",
            " [6 6]\n",
            " [7 8]\n",
            " [9 9]]\n"
          ]
        }
      ]
    },
    {
      "cell_type": "code",
      "source": [
        "'''9. step 1- Create a random array, with the range 0-1000, with a size 50\n",
        "step 2- Perform the following operations on the same.\n",
        "a. Print the first ten elements of the array.\n",
        "b. Print the last ten elements of the array\n",
        "c. Print the elements from the indexes 10-25\n",
        "d. Print the element at the index 22\n",
        "e. Print the array using negative indexing.\n",
        "f. Print the last ten elements of the array, using negative indexing.'''\n",
        "\n",
        "arr1=np.random.randint(0,1001,50)\n",
        "print(arr1)\n",
        "\n",
        "#a. Print the first ten elements of the array.\n",
        "print( arr1[ :10])\n",
        "\n",
        "#b  Print the last ten elements of the array\n",
        "print(arr1[-10:])\n",
        "print(arr1[40:])\n",
        "\n",
        "#c. Print the elements from the indexes 10-25\n",
        "print(arr1[10:26])\n",
        "\n",
        "#d. Print the element at the index 22\n",
        "print(arr1[22])\n",
        "\n",
        "#e. Print the whole array using negative indexing.\n",
        "\n",
        "print(arr1[-50: ]) # same order using -ve indexing\n",
        "print(arr1[ : ]) # same  order using +ve index  - not correct due to question\n",
        "print(arr1[ : : -1]) # reverse order using -ve indexing\n",
        "\n",
        "#f. Print the last ten elements of the array, using negative indexing\n",
        "print(\"--------------------------\")\n",
        "print(arr1[-10:])\n",
        "print(arr1[-50:-40]) # wrong way\n",
        "print(arr1[-1:-11:-1])"
      ],
      "metadata": {
        "colab": {
          "base_uri": "https://localhost:8080/"
        },
        "id": "by0chOPuJDsP",
        "outputId": "483e0b9e-ac25-461c-f722-aa5a04586642"
      },
      "execution_count": 77,
      "outputs": [
        {
          "output_type": "stream",
          "name": "stdout",
          "text": [
            "[301 146  30 732 133 194 463 470 481 257 459 847 276 989  14 736 654 691\n",
            " 343 897 326 998 363 376 925 436   9 499 368  11 911 284 477 408 367 480\n",
            " 404  72 520 777 416 850 244  23 224 182 460 212   2 601]\n",
            "[301 146  30 732 133 194 463 470 481 257]\n",
            "[416 850 244  23 224 182 460 212   2 601]\n",
            "[416 850 244  23 224 182 460 212   2 601]\n",
            "[459 847 276 989  14 736 654 691 343 897 326 998 363 376 925 436]\n",
            "363\n",
            "[301 146  30 732 133 194 463 470 481 257 459 847 276 989  14 736 654 691\n",
            " 343 897 326 998 363 376 925 436   9 499 368  11 911 284 477 408 367 480\n",
            " 404  72 520 777 416 850 244  23 224 182 460 212   2 601]\n",
            "[301 146  30 732 133 194 463 470 481 257 459 847 276 989  14 736 654 691\n",
            " 343 897 326 998 363 376 925 436   9 499 368  11 911 284 477 408 367 480\n",
            " 404  72 520 777 416 850 244  23 224 182 460 212   2 601]\n",
            "[601   2 212 460 182 224  23 244 850 416 777 520  72 404 480 367 408 477\n",
            " 284 911  11 368 499   9 436 925 376 363 998 326 897 343 691 654 736  14\n",
            " 989 276 847 459 257 481 470 463 194 133 732  30 146 301]\n",
            "--------------------------\n",
            "[416 850 244  23 224 182 460 212   2 601]\n",
            "[301 146  30 732 133 194 463 470 481 257]\n",
            "[601   2 212 460 182 224  23 244 850 416]\n"
          ]
        }
      ]
    },
    {
      "cell_type": "code",
      "source": [
        "'''10. Given a numpy array that has values = [1,2,3,4,5]. Perform the following operations.\n",
        "a. Insert the element 6 at the end of the array.\n",
        "b. Insert the element 10 at the beginning of the array.\n",
        "c. Insert the element 30, before 4.\n",
        "d. Update the element 5 as 50.\n",
        "e. Delete the element 50 in the updated array.\n",
        "f. Create a function to search for the element 30.\n",
        "g. Sort the array in ascending orde'''\n",
        "\n",
        "data=[1,2,3,4,5]\n",
        "arr1=np.array(data)\n",
        "print(arr1)\n",
        "\n",
        "#Insert the element 6 at the end of the array.\n",
        "newarr=np.append(arr1,6)\n",
        "print(newarr)\n",
        "#b. Insert the element 10 at the beginning of the array.\n",
        "newarr=np.insert(newarr,0,10)\n",
        "print(newarr)\n",
        "'''c. Insert the element 30, before element 4.\n",
        "d. Update the element 5 as 50.\n",
        "HOMEWORK'''\n",
        "\n",
        "\n",
        "# e. Delete the element 3 in the updated array.\n",
        "newarr=np.delete(newarr,3)  #(array name , index at which element is present)\n",
        "print(newarr)\n",
        "\n",
        "# f -Create a function to search for the element 30.\n",
        "\n",
        "def search(newarr,element):\n",
        "  if element in newarr:\n",
        "    print(\"present\")\n",
        "  else:\n",
        "    print(\"not present\")\n",
        "\n",
        "# call our function\n",
        "\n",
        "search(newarr,100)\n"
      ],
      "metadata": {
        "colab": {
          "base_uri": "https://localhost:8080/"
        },
        "id": "DJwQHMlhNzTG",
        "outputId": "bc39d659-79a0-4c43-ccf1-a959ad46a835"
      },
      "execution_count": 85,
      "outputs": [
        {
          "output_type": "stream",
          "name": "stdout",
          "text": [
            "[1 2 3 4 5]\n",
            "[1 2 3 4 5 6]\n",
            "[10  1  2  3  4  5  6]\n",
            "[10  1  2  4  5  6]\n",
            "not present\n"
          ]
        }
      ]
    },
    {
      "cell_type": "code",
      "source": [
        "# g. Sort the array in ascending orde''\n",
        "newarr.sort()"
      ],
      "metadata": {
        "id": "1gWUNy1gP2li"
      },
      "execution_count": 86,
      "outputs": []
    },
    {
      "cell_type": "code",
      "source": [
        "print(newarr)"
      ],
      "metadata": {
        "colab": {
          "base_uri": "https://localhost:8080/"
        },
        "id": "NEBfn-ZvQBOs",
        "outputId": "51d6d793-0de6-4afb-8640-dc63f9393714"
      },
      "execution_count": 87,
      "outputs": [
        {
          "output_type": "stream",
          "name": "stdout",
          "text": [
            "[ 1  2  4  5  6 10]\n"
          ]
        }
      ]
    }
  ]
}