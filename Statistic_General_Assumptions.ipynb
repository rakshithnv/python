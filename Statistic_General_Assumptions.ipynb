{
 "cells": [
  {
   "cell_type": "markdown",
   "metadata": {
    "id": "l2jyGKHCUPe7"
   },
   "source": [
    "# **How do we get the 1.96 values for rejection region in the normal distribution for the two tailed test**"
   ]
  },
  {
   "cell_type": "code",
   "execution_count": null,
   "metadata": {
    "colab": {
     "base_uri": "https://localhost:8080/"
    },
    "id": "B7mgvXAjUJKi",
    "outputId": "336d910a-2c8b-4cb7-d6f0-ce384925b389"
   },
   "outputs": [
    {
     "name": "stdout",
     "output_type": "stream",
     "text": [
      "Critical z-score for two-tailed test with alpha=0.05: 1.959963984540054\n",
      "\n",
      "\n",
      "\n",
      "Explanation of norm.ppf:\n",
      "The norm.ppf function in scipy.stats stands for 'percent point function' of the standard normal distribution.\n",
      "It takes a probability value between 0 and 1 as input and returns the corresponding z-score such that the area less \n",
      "than that z-score under the standard normal curve is equal to the input probability.\n",
      "\n",
      "In this case, we provide the probability (1 - tail_area) which corresponds to the area outside the rejection region (non-shaded area under the curve).\n",
      "The norm.ppf function then finds the z-score that separates this non-shaded area from the shaded rejection region, which is the critical z-score.\n"
     ]
    }
   ],
   "source": [
    "from scipy.stats import norm\n",
    "\n",
    "# Defining significance level (alpha)\n",
    "# alpha = 1 - CI = 1 - 0.95 = 0.05\n",
    "alpha = 0.05 # (5%)\n",
    "\n",
    "# Two-tailed test, so we need to split the alpha values in half for both the tails\n",
    "# alpha / 2 = 0.025\n",
    "tail_area = alpha / 2\n",
    "\n",
    "# Finding the critical z-score using the inverse cumulative distribution function (cdf)\n",
    "z = norm.ppf(1 - tail_area)\n",
    "\n",
    "# Print the critical z-score\n",
    "print(\"Critical z-score for two-tailed test with alpha=0.05:\", z)\n",
    "\n",
    "# Explain norm.ppf\n",
    "print(\"\\n\\n\\nExplanation of norm.ppf:\")\n",
    "print(\"The norm.ppf function in scipy.stats stands for 'percent point function' of the standard normal distribution.\")\n",
    "print(\"It takes a probability value between 0 and 1 as input and returns the corresponding z-score such that the area less \\nthan that z-score under the standard normal curve is equal to the input probability.\\n\")\n",
    "print(\"In this case, we provide the probability (1 - tail_area) which corresponds to the area outside the rejection region (non-shaded area under the curve).\")\n",
    "print(\"The norm.ppf function then finds the z-score that separates this non-shaded area from the shaded rejection region, which is the critical z-score.\")"
   ]
  },
  {
   "cell_type": "markdown",
   "metadata": {
    "id": "DQMCs_ixVKB2"
   },
   "source": [
    "**More about ppf and its uses:**\n",
    "\n",
    "**ppf stands for Percent Point Function, also known as the inverse cumulative distribution function (CDF) or quantile function. It's a crucial tool in statistics and probability for translating between probabilities and values within a specific distribution.**\n",
    "\n",
    "Calculation:\n",
    "\n",
    "**Imagine you have a probability distribution, like the standard normal distribution (bell curve). The CDF tells you the probability that a randomly drawn value from that distribution will be less than a specific value (x). The ppf does the opposite: it takes a probability value and tells you the value (x) on the distribution that has that probability or less accumulated below it.**"
   ]
  },
  {
   "cell_type": "markdown",
   "metadata": {
    "id": "RJEzYgl3nHXV"
   },
   "source": [
    "<hr>\n",
    "\n",
    "# **Question for Two tailed T-Test: We are working in a biscuit company. The weight of each biscuit is 10gm on an average. Now, one day a employee notices the difference in weights of few biscuits and reports to the quality assurance department. Now, taking this thing on a note, QA department conducts a test. Here they have taken a sample, now they want to find out whether the average weight of the sample taken in same as of the population or not**"
   ]
  },
  {
   "cell_type": "markdown",
   "metadata": {
    "id": "EEwt31jWnsQp"
   },
   "source": [
    "* **Null Hypothesis: The average weight is 10 grams**\n",
    "* **Alternate Hypothesis: The average weight is not 10 grams**"
   ]
  },
  {
   "cell_type": "code",
   "execution_count": null,
   "metadata": {
    "id": "VNp85DTTUX1C"
   },
   "outputs": [],
   "source": [
    "from scipy.stats import ttest_ind"
   ]
  },
  {
   "cell_type": "code",
   "execution_count": null,
   "metadata": {
    "id": "DDAHm3efn5cd"
   },
   "outputs": [],
   "source": [
    "import numpy as np\n",
    "from scipy import stats\n",
    "\n",
    "# Population size\n",
    "n = 100\n",
    "\n",
    "# Population mean (assumed)\n",
    "mu = 10\n",
    "\n",
    "# Standard deviation (assumed)\n",
    "sigma = 5\n",
    "\n",
    "# Sample data\n",
    "sample = np.random.normal(mu, sigma, 30)"
   ]
  },
  {
   "cell_type": "code",
   "execution_count": null,
   "metadata": {
    "colab": {
     "base_uri": "https://localhost:8080/"
    },
    "id": "34QvWZMVoSHo",
    "outputId": "bc966a2b-7d73-4cb5-ddbe-ab55d92dade3"
   },
   "outputs": [
    {
     "data": {
      "text/plain": [
       "array([10.18489778, 12.76180926, 10.41377501, 12.51421621,  6.11613099,\n",
       "       11.08952291, 15.24909942, 11.87095279,  8.34116407,  5.0742481 ,\n",
       "        8.09122169,  6.88460186,  9.77654964, 16.95942574, 20.44414112,\n",
       "        6.75132732,  8.48149601, -3.00523945, 10.50918996,  9.22891319,\n",
       "        8.61154847, 12.20551767,  8.25489474,  9.65202716, 12.37302968,\n",
       "       10.3003658 ,  8.20054544,  7.88715092, 17.66276069,  7.11669945])"
      ]
     },
     "execution_count": 3,
     "metadata": {},
     "output_type": "execute_result"
    }
   ],
   "source": [
    "sample"
   ]
  },
  {
   "cell_type": "code",
   "execution_count": null,
   "metadata": {
    "colab": {
     "base_uri": "https://localhost:8080/"
    },
    "id": "ispGuGd8oQog",
    "outputId": "9a1d0b3e-2e7c-420c-eacb-22cb1e474f0c"
   },
   "outputs": [
    {
     "name": "stdout",
     "output_type": "stream",
     "text": [
      "Fail to reject the null hypothesis. There is not enough evidence to conclude that the average weight of the sample is different from the population mean.\n",
      "\n",
      "-----------------------------\n",
      "Here are the parametes results \n",
      "=======\n",
      "Population Mean: 10,\n",
      "=======\n",
      "Standard Deviation: 5,\n",
      "=======\n",
      "Sample Mean: 10.000066121134088,\n",
      "=======\n",
      "T - Test Value: 1.5177137607236951e-05,\n",
      "=======\n",
      "P_value: 0.9999879943202007,\n",
      "=======\n",
      "Level of Significance: 0.05\n"
     ]
    }
   ],
   "source": [
    "# Hypothesis test\n",
    "# Null hypothesis: The average weight of the sample is the same as the population mean (mu)\n",
    "# Alternative hypothesis: The average weight of the sample is different from the population mean (mu) (two-tailed)\n",
    "\n",
    "# Perform two-tailed t-test\n",
    "t_statistic, p_value = stats.ttest_ind(sample, mu, alternative='two-sided')\n",
    "\n",
    "# Significance level\n",
    "alpha = 0.05\n",
    "\n",
    "# Decision\n",
    "if p_value < alpha:\n",
    "    print(\"Reject the null hypothesis. The average weight of the sample is statistically different from the population mean.\")\n",
    "else:\n",
    "    print(\"Fail to reject the null hypothesis. There is not enough evidence to conclude that the average weight of the sample is different from the population mean.\")\n",
    "\n",
    "\n",
    "print('\\n-----------------------------\\nHere are the parametes results', end = \" \")\n",
    "print(f'\\n=======\\nPopulation Mean: {mu},\\n=======\\nStandard Deviation: {sigma},\\n=======\\nSample Mean: {sample.mean()},\\n=======\\nT - Test Value: {t_statistic},\\n=======\\nP_value: {p_value},\\n=======\\nLevel of Significance: {alpha}')\n"
   ]
  },
  {
   "cell_type": "markdown",
   "metadata": {
    "id": "K2y-bdbKq6Xg"
   },
   "source": [
    "# **Working with One tailed t-test (Greater side)**"
   ]
  },
  {
   "cell_type": "code",
   "execution_count": null,
   "metadata": {
    "colab": {
     "base_uri": "https://localhost:8080/"
    },
    "id": "l3EUk07soZAb",
    "outputId": "ed109e63-0cd4-4841-db5d-4236326a8114"
   },
   "outputs": [
    {
     "name": "stdout",
     "output_type": "stream",
     "text": [
      "Fail to reject the null hypothesis. There is not enough evidence to conclude that the average weight of the sample is greater than the population mean.\n",
      "\n",
      "-----------------------------\n",
      "Here are the parametes results \n",
      "=======\n",
      "Population Mean: 10,\n",
      "=======\n",
      "Standard Deviation: 5,\n",
      "=======\n",
      "Sample Mean: 9.980949554445436,\n",
      "=======\n",
      "T - Test Value: -0.04005791646634133,\n",
      "=======\n",
      "P_value: 0.5159361874813231,\n",
      "=======\n",
      "Level of Significance: 0.05\n"
     ]
    }
   ],
   "source": [
    "import numpy as np\n",
    "from scipy import stats\n",
    "\n",
    "# Sample size\n",
    "n = 100\n",
    "\n",
    "# Population mean (assumed)\n",
    "mu = 10\n",
    "\n",
    "# Standard deviation (assumed)\n",
    "sigma = 5\n",
    "\n",
    "# Sample data\n",
    "sample = np.random.normal(mu, sigma, n)\n",
    "\n",
    "# Hypothesis test\n",
    "# Null hypothesis: The average weight of the sample is equal to the population mean (mu)\n",
    "# Alternative hypothesis: The average weight of the sample is greater than the population mean (mu) (one-tailed)\n",
    "\n",
    "# Perform one-tailed t-test\n",
    "t_statistic, p_value = stats.ttest_1samp(sample, mu, alternative='greater')\n",
    "\n",
    "# Significance level\n",
    "alpha = 0.05\n",
    "\n",
    "# Decision\n",
    "if p_value < alpha:\n",
    "    print(\"Reject the null hypothesis. The average weight of the sample is statistically greater than the population mean.\")\n",
    "else:\n",
    "    print(\"Fail to reject the null hypothesis. There is not enough evidence to conclude that the average weight of the sample is greater than the population mean.\")\n",
    "\n",
    "# Alternatively, for a one-tailed test less than mu:\n",
    "# t_statistic, p_value = stats.ttest_1samp(sample, mu, alternative='less')\n",
    "\n",
    "print('\\n-----------------------------\\nHere are the parametes results', end = \" \")\n",
    "print(f'\\n=======\\nPopulation Mean: {mu},\\n=======\\nStandard Deviation: {sigma},\\n=======\\nSample Mean: {sample.mean()},\\n=======\\nT - Test Value: {t_statistic},\\n=======\\nP_value: {p_value},\\n=======\\nLevel of Significance: {alpha}')\n"
   ]
  },
  {
   "cell_type": "markdown",
   "metadata": {
    "id": "uZXvtTLCrS5K"
   },
   "source": [
    "# **Working with One tailed t-test (Less than side)**"
   ]
  },
  {
   "cell_type": "code",
   "execution_count": null,
   "metadata": {
    "colab": {
     "base_uri": "https://localhost:8080/"
    },
    "id": "aMoGJXIQrOG4",
    "outputId": "fbe65a23-3cc4-43c6-eb36-853728819f3b"
   },
   "outputs": [
    {
     "name": "stdout",
     "output_type": "stream",
     "text": [
      "Fail to reject the null hypothesis. There is not enough evidence to conclude that the average weight of the sample is less than the population mean.\n",
      "\n",
      "-----------------------------\n",
      "Here are the parametes results \n",
      "=======\n",
      "Population Mean: 10,\n",
      "=======\n",
      "Standard Deviation: 5,\n",
      "=======\n",
      "Sample Mean: 10.009782741805155,\n",
      "=======\n",
      "T - Test Value: 0.017921643736574473,\n",
      "=======\n",
      "P_value: 0.5071312841010813,\n",
      "=======\n",
      "Level of Significance: 0.05\n"
     ]
    }
   ],
   "source": [
    "import numpy as np\n",
    "from scipy import stats\n",
    "\n",
    "# Sample size\n",
    "n = 100\n",
    "\n",
    "# Population mean (assumed)\n",
    "mu = 10\n",
    "\n",
    "# Standard deviation (assumed)\n",
    "sigma = 5\n",
    "\n",
    "# Sample data\n",
    "sample = np.random.normal(mu, sigma, n)\n",
    "\n",
    "# Hypothesis test\n",
    "# Null hypothesis: The average weight of the sample is equal to the population mean (mu)\n",
    "# Alternative hypothesis: The average weight of the sample is less than the population mean (mu) (one-tailed)\n",
    "\n",
    "# Perform one-tailed t-test\n",
    "t_statistic, p_value = stats.ttest_1samp(sample, mu, alternative='less')\n",
    "\n",
    "# Significance level\n",
    "alpha = 0.05\n",
    "\n",
    "# Decision\n",
    "if p_value < alpha:\n",
    "    print(\"Reject the null hypothesis. The average weight of the sample is statistically greater than the population mean.\")\n",
    "else:\n",
    "    print(\"Fail to reject the null hypothesis. There is not enough evidence to conclude that the average weight of the sample is less than the population mean.\")\n",
    "\n",
    "# Alternatively, for a one-tailed test less than mu:\n",
    "# t_statistic, p_value = stats.ttest_1samp(sample, mu, alternative='less')\n",
    "\n",
    "print('\\n-----------------------------\\nHere are the parametes results', end = \" \")\n",
    "print(f'\\n=======\\nPopulation Mean: {mu},\\n=======\\nStandard Deviation: {sigma},\\n=======\\nSample Mean: {sample.mean()},\\n=======\\nT - Test Value: {t_statistic},\\n=======\\nP_value: {p_value},\\n=======\\nLevel of Significance: {alpha}')\n"
   ]
  },
  {
   "cell_type": "markdown",
   "metadata": {
    "id": "YPo2rBw117Yy"
   },
   "source": [
    "<hr>\n",
    "\n",
    "* **Z-test: Used when the population standard deviation (σ) is known.**\n",
    "* **T-test: Used when the population standard deviation (σ) is unknown, but the sample size is large enough or small enough but the standard deviation is not there**"
   ]
  },
  {
   "cell_type": "markdown",
   "metadata": {
    "id": "yM1z55IQw7M5"
   },
   "source": [
    "<hr>\n",
    "\n",
    "# **Analysing the Z-test Manually**"
   ]
  },
  {
   "cell_type": "markdown",
   "metadata": {
    "id": "1nA74Lil0Uen"
   },
   "source": [
    "# **Scenario:**\n",
    "**The average height of the boys in country is 175 cms. Let's say we want to evaluate the height of 10 students taken at random from a school.**\n",
    "\n",
    "**Hypothesis Taken**\n",
    "* **Null: : The average height of students in sample class is same as the country height (μ = 175 cm).**\n",
    "* **Alternative Hypothesis (H1): The average height of students in your class not same as your country height (μ ≠ 175 cm).**\n",
    "\n",
    "**Assumptions**\n",
    "* The data is normally distributed\n",
    "* SD(population) is known\n",
    "* Sample should be larger n = 10 >= 30"
   ]
  },
  {
   "cell_type": "markdown",
   "metadata": {
    "id": "mE-zZAqu2dkf"
   },
   "source": [
    "**Step 1: Calculating a Z-statistics**\n"
   ]
  },
  {
   "cell_type": "code",
   "execution_count": null,
   "metadata": {
    "id": "DkvbJzaA1FN3"
   },
   "outputs": [],
   "source": [
    "import math\n",
    "data = [172, 168, 175, 170, 173, 178, 169, 171, 174, 176]\n",
    "pop_mean, sample_mean = 175, 170\n",
    "SD = 5\n",
    "sample_size = 10"
   ]
  },
  {
   "cell_type": "code",
   "execution_count": null,
   "metadata": {
    "id": "mvlSyc5V2xBS"
   },
   "outputs": [],
   "source": [
    "Z_stats = (sample_mean - pop_mean) / (SD / (math.sqrt(sample_size)))"
   ]
  },
  {
   "cell_type": "code",
   "execution_count": null,
   "metadata": {
    "colab": {
     "base_uri": "https://localhost:8080/"
    },
    "id": "a7sGuN6b3Bf7",
    "outputId": "318683b3-ecbc-4368-d5c0-5ee3dc15ead3"
   },
   "outputs": [
    {
     "data": {
      "text/plain": [
       "-3.1622776601683795"
      ]
     },
     "execution_count": 10,
     "metadata": {},
     "output_type": "execute_result"
    }
   ],
   "source": [
    "Z_stats"
   ]
  },
  {
   "cell_type": "code",
   "execution_count": null,
   "metadata": {
    "id": "duIrz5Ny3Edc"
   },
   "outputs": [],
   "source": [
    "# According to z-table negative value is -2.7 to +2.7"
   ]
  },
  {
   "cell_type": "markdown",
   "metadata": {
    "id": "t3a1-FyB3nX6"
   },
   "source": [
    "**Implementation**"
   ]
  },
  {
   "cell_type": "code",
   "execution_count": null,
   "metadata": {
    "colab": {
     "base_uri": "https://localhost:8080/"
    },
    "id": "hrsllCnh3ofV",
    "outputId": "3e1cf7f0-e3e8-49a9-ba1c-2c451a9c1ea7"
   },
   "outputs": [
    {
     "name": "stdout",
     "output_type": "stream",
     "text": [
      "Test statistic: -2.496751135729443\n",
      "p-value: 0.012533688376410744\n",
      "Reject null hypothesis. Average heights differ significantly.\n"
     ]
    }
   ],
   "source": [
    "from statsmodels.stats.weightstats import ztest\n",
    "\n",
    "# Sample data\n",
    "heights = [172, 168, 175, 170, 173, 178, 169, 171, 174, 176]\n",
    "\n",
    "\n",
    "# Define null hypothesis\n",
    "mu_0 = 175\n",
    "\n",
    "# Calculate Z-statistic and p-value\n",
    "z_stat, pval = ztest(heights, value = mu_0, ddof = 0, alternative = 'two-sided')\n",
    "\n",
    "# Print results\n",
    "print(\"Test statistic:\", z_stat)\n",
    "print(\"p-value:\", pval)\n",
    "\n",
    "if pval > 0.05:\n",
    "    print(\"Fail to reject null hypothesis. No significant difference in average heights.\")\n",
    "else:\n",
    "    print(\"Reject null hypothesis. Average heights differ significantly.\")\n",
    "\n"
   ]
  },
  {
   "cell_type": "markdown",
   "metadata": {
    "id": "8UdDHFrpBMPh"
   },
   "source": [
    "**Chi-square test**"
   ]
  },
  {
   "cell_type": "markdown",
   "metadata": {
    "id": "U7G88I_aCdZ_"
   },
   "source": [
    "Null Hypo: The observed Frequecy of the the values is `16.67, our dice is fair\n",
    "\n",
    "Alternate: The observed is not 16.67, our dice is unfair"
   ]
  },
  {
   "cell_type": "code",
   "execution_count": null,
   "metadata": {
    "id": "k2MQUKl53ozU"
   },
   "outputs": [],
   "source": [
    "from scipy.stats import chi2_contingency as chi"
   ]
  },
  {
   "cell_type": "code",
   "execution_count": null,
   "metadata": {
    "id": "f7zegrmwBSUZ"
   },
   "outputs": [],
   "source": [
    "observed_val = [18, 14, 20, 12, 19, 17]\n",
    "\n",
    "predicted_val = [16.67, 16.67, 16.67, 16.67, 16.67, 16.67]"
   ]
  },
  {
   "cell_type": "code",
   "execution_count": null,
   "metadata": {
    "id": "FBUrpamKBckV"
   },
   "outputs": [],
   "source": [
    "#perform chi test\n",
    "chi2, p_val, dof, expected_freq = chi(observed_val, predicted_val)"
   ]
  },
  {
   "cell_type": "code",
   "execution_count": null,
   "metadata": {
    "colab": {
     "base_uri": "https://localhost:8080/"
    },
    "id": "2octwnuxBvAd",
    "outputId": "f430b9e0-b336-42ba-fe65-538303d9b8b8"
   },
   "outputs": [
    {
     "name": "stdout",
     "output_type": "stream",
     "text": [
      "Chi stats:  0.0\n",
      "P_value:  1.0\n",
      "Degree of Freedom:  0\n"
     ]
    }
   ],
   "source": [
    "# results\n",
    "print('Chi stats: ', chi2)\n",
    "print('P_value: ', p_val)\n",
    "print('Degree of Freedom: ', dof)"
   ]
  },
  {
   "cell_type": "code",
   "execution_count": null,
   "metadata": {
    "colab": {
     "base_uri": "https://localhost:8080/"
    },
    "id": "ZQxJ8Sb1B-M7",
    "outputId": "d3ae6408-a531-433a-a2b6-5eb5d81e8664"
   },
   "outputs": [
    {
     "name": "stdout",
     "output_type": "stream",
     "text": [
      "Accept the Null Hypo, our dice is fair\n"
     ]
    }
   ],
   "source": [
    "if p_val > 0.05:\n",
    "  print('Accept the Null Hypo, our dice is fair')\n",
    "else:\n",
    "  print('Reject the Null Hypo, our dice isnt fair')"
   ]
  },
  {
   "cell_type": "code",
   "execution_count": null,
   "metadata": {
    "id": "a-wYNS87CLP_"
   },
   "outputs": [],
   "source": []
  },
  {
   "cell_type": "markdown",
   "metadata": {
    "id": "-670EoSHFQXz"
   },
   "source": [
    "**Chi_test for indenpendence**"
   ]
  },
  {
   "cell_type": "code",
   "execution_count": null,
   "metadata": {
    "id": "yBdJhYGRFTFW"
   },
   "outputs": [],
   "source": [
    "observed_val = [[20, 10], [50, 5], [10, 25]]\n",
    "\n",
    "# calculating the expected frequecies\n",
    "rows_total = [sum(row) for row in observed_val]\n",
    "col_total = [sum(col) for col in zip(*observed_val)]\n",
    "\n",
    "expected = []\n",
    "for i in range(len(observed_val)):\n",
    "  expected.append([rows_total[i] * col / sum(col_total) for col in col_total])"
   ]
  },
  {
   "cell_type": "code",
   "execution_count": null,
   "metadata": {
    "colab": {
     "base_uri": "https://localhost:8080/"
    },
    "id": "7_pEGjH_GIRo",
    "outputId": "28febd67-51e6-4dca-e465-05e397ac2601"
   },
   "outputs": [
    {
     "data": {
      "text/plain": [
       "[[20.0, 10.0],\n",
       " [36.666666666666664, 18.333333333333332],\n",
       " [23.333333333333332, 11.666666666666666]]"
      ]
     },
     "execution_count": 19,
     "metadata": {},
     "output_type": "execute_result"
    }
   ],
   "source": [
    "expected"
   ]
  },
  {
   "cell_type": "code",
   "execution_count": null,
   "metadata": {
    "id": "evAtNg4JGNmP"
   },
   "outputs": [],
   "source": [
    "observed_val = [[20, 10], [50, 5], [10, 25]]\n",
    "# -------\n",
    "expected = [[20.0, 10.0],\n",
    " [36.666666666666664, 18.333333333333332],\n",
    " [23.333333333333332, 11.666666666666666]]"
   ]
  },
  {
   "cell_type": "code",
   "execution_count": null,
   "metadata": {
    "id": "ic5Bs8DdG_Cf"
   },
   "outputs": [],
   "source": [
    "chi2, p_val, dof, expected_freq = chi(observed_val, expected)\n"
   ]
  },
  {
   "cell_type": "code",
   "execution_count": null,
   "metadata": {
    "colab": {
     "base_uri": "https://localhost:8080/"
    },
    "id": "DIBcK5S7HHAB",
    "outputId": "7d89f44d-7daf-410a-f123-3c72231b20fc"
   },
   "outputs": [
    {
     "name": "stdout",
     "output_type": "stream",
     "text": [
      "Chi stats:  37.40259740259741\n",
      "P_value:  7.553168436167824e-09\n",
      "Degree of Freedom:  2\n"
     ]
    }
   ],
   "source": [
    "# results\n",
    "print('Chi stats: ', chi2)\n",
    "print('P_value: ', p_val)\n",
    "print('Degree of Freedom: ', dof)"
   ]
  },
  {
   "cell_type": "code",
   "execution_count": null,
   "metadata": {
    "colab": {
     "base_uri": "https://localhost:8080/"
    },
    "id": "3CsVevBBHHeK",
    "outputId": "fd08d372-66f3-4e2e-86d8-e5454cdaad8a"
   },
   "outputs": [
    {
     "name": "stdout",
     "output_type": "stream",
     "text": [
      "There is evidence of any relationship between two columns\n"
     ]
    }
   ],
   "source": [
    "if p_val > 0.05:\n",
    "  print('There is no evidence of any relationship between two columns')\n",
    "else:\n",
    "  print('There is evidence of any relationship between two columns')"
   ]
  },
  {
   "cell_type": "markdown",
   "metadata": {
    "id": "T2E7MdH6IhDt"
   },
   "source": [
    "**One Way ANOVA**\n",
    "\n",
    "**Student Group A, B, C**"
   ]
  },
  {
   "cell_type": "code",
   "execution_count": null,
   "metadata": {
    "colab": {
     "base_uri": "https://localhost:8080/",
     "height": 425
    },
    "id": "e0hL79RsHZgQ",
    "outputId": "018846af-e8a7-46b0-b847-91020fb982f1"
   },
   "outputs": [
    {
     "data": {
      "application/vnd.google.colaboratory.intrinsic+json": {
       "summary": "{\n  \"name\": \"df\",\n  \"rows\": 12,\n  \"fields\": [\n    {\n      \"column\": \"Group\",\n      \"properties\": {\n        \"dtype\": \"category\",\n        \"num_unique_values\": 3,\n        \"samples\": [\n          \"A\",\n          \"B\",\n          \"C\"\n        ],\n        \"semantic_type\": \"\",\n        \"description\": \"\"\n      }\n    },\n    {\n      \"column\": \"Scores\",\n      \"properties\": {\n        \"dtype\": \"number\",\n        \"std\": 6,\n        \"min\": 75,\n        \"max\": 95,\n        \"num_unique_values\": 9,\n        \"samples\": [\n          78,\n          75,\n          92\n        ],\n        \"semantic_type\": \"\",\n        \"description\": \"\"\n      }\n    }\n  ]\n}",
       "type": "dataframe",
       "variable_name": "df"
      },
      "text/html": [
       "\n",
       "  <div id=\"df-c0d519b3-2c79-455c-8e5b-601a348457fa\" class=\"colab-df-container\">\n",
       "    <div>\n",
       "<style scoped>\n",
       "    .dataframe tbody tr th:only-of-type {\n",
       "        vertical-align: middle;\n",
       "    }\n",
       "\n",
       "    .dataframe tbody tr th {\n",
       "        vertical-align: top;\n",
       "    }\n",
       "\n",
       "    .dataframe thead th {\n",
       "        text-align: right;\n",
       "    }\n",
       "</style>\n",
       "<table border=\"1\" class=\"dataframe\">\n",
       "  <thead>\n",
       "    <tr style=\"text-align: right;\">\n",
       "      <th></th>\n",
       "      <th>Group</th>\n",
       "      <th>Scores</th>\n",
       "    </tr>\n",
       "  </thead>\n",
       "  <tbody>\n",
       "    <tr>\n",
       "      <th>0</th>\n",
       "      <td>A</td>\n",
       "      <td>80</td>\n",
       "    </tr>\n",
       "    <tr>\n",
       "      <th>1</th>\n",
       "      <td>A</td>\n",
       "      <td>75</td>\n",
       "    </tr>\n",
       "    <tr>\n",
       "      <th>2</th>\n",
       "      <td>A</td>\n",
       "      <td>90</td>\n",
       "    </tr>\n",
       "    <tr>\n",
       "      <th>3</th>\n",
       "      <td>A</td>\n",
       "      <td>85</td>\n",
       "    </tr>\n",
       "    <tr>\n",
       "      <th>4</th>\n",
       "      <td>B</td>\n",
       "      <td>95</td>\n",
       "    </tr>\n",
       "    <tr>\n",
       "      <th>5</th>\n",
       "      <td>B</td>\n",
       "      <td>92</td>\n",
       "    </tr>\n",
       "    <tr>\n",
       "      <th>6</th>\n",
       "      <td>B</td>\n",
       "      <td>88</td>\n",
       "    </tr>\n",
       "    <tr>\n",
       "      <th>7</th>\n",
       "      <td>B</td>\n",
       "      <td>90</td>\n",
       "    </tr>\n",
       "    <tr>\n",
       "      <th>8</th>\n",
       "      <td>C</td>\n",
       "      <td>78</td>\n",
       "    </tr>\n",
       "    <tr>\n",
       "      <th>9</th>\n",
       "      <td>C</td>\n",
       "      <td>82</td>\n",
       "    </tr>\n",
       "    <tr>\n",
       "      <th>10</th>\n",
       "      <td>C</td>\n",
       "      <td>75</td>\n",
       "    </tr>\n",
       "    <tr>\n",
       "      <th>11</th>\n",
       "      <td>C</td>\n",
       "      <td>80</td>\n",
       "    </tr>\n",
       "  </tbody>\n",
       "</table>\n",
       "</div>\n",
       "    <div class=\"colab-df-buttons\">\n",
       "\n",
       "  <div class=\"colab-df-container\">\n",
       "    <button class=\"colab-df-convert\" onclick=\"convertToInteractive('df-c0d519b3-2c79-455c-8e5b-601a348457fa')\"\n",
       "            title=\"Convert this dataframe to an interactive table.\"\n",
       "            style=\"display:none;\">\n",
       "\n",
       "  <svg xmlns=\"http://www.w3.org/2000/svg\" height=\"24px\" viewBox=\"0 -960 960 960\">\n",
       "    <path d=\"M120-120v-720h720v720H120Zm60-500h600v-160H180v160Zm220 220h160v-160H400v160Zm0 220h160v-160H400v160ZM180-400h160v-160H180v160Zm440 0h160v-160H620v160ZM180-180h160v-160H180v160Zm440 0h160v-160H620v160Z\"/>\n",
       "  </svg>\n",
       "    </button>\n",
       "\n",
       "  <style>\n",
       "    .colab-df-container {\n",
       "      display:flex;\n",
       "      gap: 12px;\n",
       "    }\n",
       "\n",
       "    .colab-df-convert {\n",
       "      background-color: #E8F0FE;\n",
       "      border: none;\n",
       "      border-radius: 50%;\n",
       "      cursor: pointer;\n",
       "      display: none;\n",
       "      fill: #1967D2;\n",
       "      height: 32px;\n",
       "      padding: 0 0 0 0;\n",
       "      width: 32px;\n",
       "    }\n",
       "\n",
       "    .colab-df-convert:hover {\n",
       "      background-color: #E2EBFA;\n",
       "      box-shadow: 0px 1px 2px rgba(60, 64, 67, 0.3), 0px 1px 3px 1px rgba(60, 64, 67, 0.15);\n",
       "      fill: #174EA6;\n",
       "    }\n",
       "\n",
       "    .colab-df-buttons div {\n",
       "      margin-bottom: 4px;\n",
       "    }\n",
       "\n",
       "    [theme=dark] .colab-df-convert {\n",
       "      background-color: #3B4455;\n",
       "      fill: #D2E3FC;\n",
       "    }\n",
       "\n",
       "    [theme=dark] .colab-df-convert:hover {\n",
       "      background-color: #434B5C;\n",
       "      box-shadow: 0px 1px 3px 1px rgba(0, 0, 0, 0.15);\n",
       "      filter: drop-shadow(0px 1px 2px rgba(0, 0, 0, 0.3));\n",
       "      fill: #FFFFFF;\n",
       "    }\n",
       "  </style>\n",
       "\n",
       "    <script>\n",
       "      const buttonEl =\n",
       "        document.querySelector('#df-c0d519b3-2c79-455c-8e5b-601a348457fa button.colab-df-convert');\n",
       "      buttonEl.style.display =\n",
       "        google.colab.kernel.accessAllowed ? 'block' : 'none';\n",
       "\n",
       "      async function convertToInteractive(key) {\n",
       "        const element = document.querySelector('#df-c0d519b3-2c79-455c-8e5b-601a348457fa');\n",
       "        const dataTable =\n",
       "          await google.colab.kernel.invokeFunction('convertToInteractive',\n",
       "                                                    [key], {});\n",
       "        if (!dataTable) return;\n",
       "\n",
       "        const docLinkHtml = 'Like what you see? Visit the ' +\n",
       "          '<a target=\"_blank\" href=https://colab.research.google.com/notebooks/data_table.ipynb>data table notebook</a>'\n",
       "          + ' to learn more about interactive tables.';\n",
       "        element.innerHTML = '';\n",
       "        dataTable['output_type'] = 'display_data';\n",
       "        await google.colab.output.renderOutput(dataTable, element);\n",
       "        const docLink = document.createElement('div');\n",
       "        docLink.innerHTML = docLinkHtml;\n",
       "        element.appendChild(docLink);\n",
       "      }\n",
       "    </script>\n",
       "  </div>\n",
       "\n",
       "\n",
       "<div id=\"df-144bd509-c4b8-4d95-81fb-a760f2bdf8e4\">\n",
       "  <button class=\"colab-df-quickchart\" onclick=\"quickchart('df-144bd509-c4b8-4d95-81fb-a760f2bdf8e4')\"\n",
       "            title=\"Suggest charts\"\n",
       "            style=\"display:none;\">\n",
       "\n",
       "<svg xmlns=\"http://www.w3.org/2000/svg\" height=\"24px\"viewBox=\"0 0 24 24\"\n",
       "     width=\"24px\">\n",
       "    <g>\n",
       "        <path d=\"M19 3H5c-1.1 0-2 .9-2 2v14c0 1.1.9 2 2 2h14c1.1 0 2-.9 2-2V5c0-1.1-.9-2-2-2zM9 17H7v-7h2v7zm4 0h-2V7h2v10zm4 0h-2v-4h2v4z\"/>\n",
       "    </g>\n",
       "</svg>\n",
       "  </button>\n",
       "\n",
       "<style>\n",
       "  .colab-df-quickchart {\n",
       "      --bg-color: #E8F0FE;\n",
       "      --fill-color: #1967D2;\n",
       "      --hover-bg-color: #E2EBFA;\n",
       "      --hover-fill-color: #174EA6;\n",
       "      --disabled-fill-color: #AAA;\n",
       "      --disabled-bg-color: #DDD;\n",
       "  }\n",
       "\n",
       "  [theme=dark] .colab-df-quickchart {\n",
       "      --bg-color: #3B4455;\n",
       "      --fill-color: #D2E3FC;\n",
       "      --hover-bg-color: #434B5C;\n",
       "      --hover-fill-color: #FFFFFF;\n",
       "      --disabled-bg-color: #3B4455;\n",
       "      --disabled-fill-color: #666;\n",
       "  }\n",
       "\n",
       "  .colab-df-quickchart {\n",
       "    background-color: var(--bg-color);\n",
       "    border: none;\n",
       "    border-radius: 50%;\n",
       "    cursor: pointer;\n",
       "    display: none;\n",
       "    fill: var(--fill-color);\n",
       "    height: 32px;\n",
       "    padding: 0;\n",
       "    width: 32px;\n",
       "  }\n",
       "\n",
       "  .colab-df-quickchart:hover {\n",
       "    background-color: var(--hover-bg-color);\n",
       "    box-shadow: 0 1px 2px rgba(60, 64, 67, 0.3), 0 1px 3px 1px rgba(60, 64, 67, 0.15);\n",
       "    fill: var(--button-hover-fill-color);\n",
       "  }\n",
       "\n",
       "  .colab-df-quickchart-complete:disabled,\n",
       "  .colab-df-quickchart-complete:disabled:hover {\n",
       "    background-color: var(--disabled-bg-color);\n",
       "    fill: var(--disabled-fill-color);\n",
       "    box-shadow: none;\n",
       "  }\n",
       "\n",
       "  .colab-df-spinner {\n",
       "    border: 2px solid var(--fill-color);\n",
       "    border-color: transparent;\n",
       "    border-bottom-color: var(--fill-color);\n",
       "    animation:\n",
       "      spin 1s steps(1) infinite;\n",
       "  }\n",
       "\n",
       "  @keyframes spin {\n",
       "    0% {\n",
       "      border-color: transparent;\n",
       "      border-bottom-color: var(--fill-color);\n",
       "      border-left-color: var(--fill-color);\n",
       "    }\n",
       "    20% {\n",
       "      border-color: transparent;\n",
       "      border-left-color: var(--fill-color);\n",
       "      border-top-color: var(--fill-color);\n",
       "    }\n",
       "    30% {\n",
       "      border-color: transparent;\n",
       "      border-left-color: var(--fill-color);\n",
       "      border-top-color: var(--fill-color);\n",
       "      border-right-color: var(--fill-color);\n",
       "    }\n",
       "    40% {\n",
       "      border-color: transparent;\n",
       "      border-right-color: var(--fill-color);\n",
       "      border-top-color: var(--fill-color);\n",
       "    }\n",
       "    60% {\n",
       "      border-color: transparent;\n",
       "      border-right-color: var(--fill-color);\n",
       "    }\n",
       "    80% {\n",
       "      border-color: transparent;\n",
       "      border-right-color: var(--fill-color);\n",
       "      border-bottom-color: var(--fill-color);\n",
       "    }\n",
       "    90% {\n",
       "      border-color: transparent;\n",
       "      border-bottom-color: var(--fill-color);\n",
       "    }\n",
       "  }\n",
       "</style>\n",
       "\n",
       "  <script>\n",
       "    async function quickchart(key) {\n",
       "      const quickchartButtonEl =\n",
       "        document.querySelector('#' + key + ' button');\n",
       "      quickchartButtonEl.disabled = true;  // To prevent multiple clicks.\n",
       "      quickchartButtonEl.classList.add('colab-df-spinner');\n",
       "      try {\n",
       "        const charts = await google.colab.kernel.invokeFunction(\n",
       "            'suggestCharts', [key], {});\n",
       "      } catch (error) {\n",
       "        console.error('Error during call to suggestCharts:', error);\n",
       "      }\n",
       "      quickchartButtonEl.classList.remove('colab-df-spinner');\n",
       "      quickchartButtonEl.classList.add('colab-df-quickchart-complete');\n",
       "    }\n",
       "    (() => {\n",
       "      let quickchartButtonEl =\n",
       "        document.querySelector('#df-144bd509-c4b8-4d95-81fb-a760f2bdf8e4 button');\n",
       "      quickchartButtonEl.style.display =\n",
       "        google.colab.kernel.accessAllowed ? 'block' : 'none';\n",
       "    })();\n",
       "  </script>\n",
       "</div>\n",
       "\n",
       "  <div id=\"id_47a9d36d-e8ec-441a-b29b-c770b70d8436\">\n",
       "    <style>\n",
       "      .colab-df-generate {\n",
       "        background-color: #E8F0FE;\n",
       "        border: none;\n",
       "        border-radius: 50%;\n",
       "        cursor: pointer;\n",
       "        display: none;\n",
       "        fill: #1967D2;\n",
       "        height: 32px;\n",
       "        padding: 0 0 0 0;\n",
       "        width: 32px;\n",
       "      }\n",
       "\n",
       "      .colab-df-generate:hover {\n",
       "        background-color: #E2EBFA;\n",
       "        box-shadow: 0px 1px 2px rgba(60, 64, 67, 0.3), 0px 1px 3px 1px rgba(60, 64, 67, 0.15);\n",
       "        fill: #174EA6;\n",
       "      }\n",
       "\n",
       "      [theme=dark] .colab-df-generate {\n",
       "        background-color: #3B4455;\n",
       "        fill: #D2E3FC;\n",
       "      }\n",
       "\n",
       "      [theme=dark] .colab-df-generate:hover {\n",
       "        background-color: #434B5C;\n",
       "        box-shadow: 0px 1px 3px 1px rgba(0, 0, 0, 0.15);\n",
       "        filter: drop-shadow(0px 1px 2px rgba(0, 0, 0, 0.3));\n",
       "        fill: #FFFFFF;\n",
       "      }\n",
       "    </style>\n",
       "    <button class=\"colab-df-generate\" onclick=\"generateWithVariable('df')\"\n",
       "            title=\"Generate code using this dataframe.\"\n",
       "            style=\"display:none;\">\n",
       "\n",
       "  <svg xmlns=\"http://www.w3.org/2000/svg\" height=\"24px\"viewBox=\"0 0 24 24\"\n",
       "       width=\"24px\">\n",
       "    <path d=\"M7,19H8.4L18.45,9,17,7.55,7,17.6ZM5,21V16.75L18.45,3.32a2,2,0,0,1,2.83,0l1.4,1.43a1.91,1.91,0,0,1,.58,1.4,1.91,1.91,0,0,1-.58,1.4L9.25,21ZM18.45,9,17,7.55Zm-12,3A5.31,5.31,0,0,0,4.9,8.1,5.31,5.31,0,0,0,1,6.5,5.31,5.31,0,0,0,4.9,4.9,5.31,5.31,0,0,0,6.5,1,5.31,5.31,0,0,0,8.1,4.9,5.31,5.31,0,0,0,12,6.5,5.46,5.46,0,0,0,6.5,12Z\"/>\n",
       "  </svg>\n",
       "    </button>\n",
       "    <script>\n",
       "      (() => {\n",
       "      const buttonEl =\n",
       "        document.querySelector('#id_47a9d36d-e8ec-441a-b29b-c770b70d8436 button.colab-df-generate');\n",
       "      buttonEl.style.display =\n",
       "        google.colab.kernel.accessAllowed ? 'block' : 'none';\n",
       "\n",
       "      buttonEl.onclick = () => {\n",
       "        google.colab.notebook.generateWithVariable('df');\n",
       "      }\n",
       "      })();\n",
       "    </script>\n",
       "  </div>\n",
       "\n",
       "    </div>\n",
       "  </div>\n"
      ],
      "text/plain": [
       "   Group  Scores\n",
       "0      A      80\n",
       "1      A      75\n",
       "2      A      90\n",
       "3      A      85\n",
       "4      B      95\n",
       "5      B      92\n",
       "6      B      88\n",
       "7      B      90\n",
       "8      C      78\n",
       "9      C      82\n",
       "10     C      75\n",
       "11     C      80"
      ]
     },
     "execution_count": 24,
     "metadata": {},
     "output_type": "execute_result"
    }
   ],
   "source": [
    "import pandas as pd\n",
    "\n",
    "data = {\n",
    "    'Group': ['A', 'A', 'A', 'A', 'B','B','B', 'B', 'C', 'C', 'C', 'C'],\n",
    "    'Scores':[80, 75, 90, 85, 95, 92, 88, 90, 78, 82, 75, 80]\n",
    "\n",
    "}\n",
    "\n",
    "df = pd.DataFrame(data)\n",
    "df\n"
   ]
  },
  {
   "cell_type": "markdown",
   "metadata": {
    "id": "PPBVpF0FJwWl"
   },
   "source": [
    "H0 --> The three group are having equal mean\n",
    "\n",
    "H1 --> The three groups are having different mean"
   ]
  },
  {
   "cell_type": "code",
   "execution_count": null,
   "metadata": {
    "colab": {
     "base_uri": "https://localhost:8080/"
    },
    "id": "utRxfkAeJDsz",
    "outputId": "b546863d-73f3-4efb-e66e-f5b58ef248de"
   },
   "outputs": [
    {
     "name": "stdout",
     "output_type": "stream",
     "text": [
      "Pvalue:  0.009062918473029835\n"
     ]
    }
   ],
   "source": [
    "import scipy.stats as st\n",
    "_, p_val = st.f_oneway(df[df['Group']=='A']['Scores'],\n",
    "                       df[df['Group']=='B']['Scores'],\n",
    "                       df[df['Group']=='C']['Scores'])\n",
    "\n",
    "\n",
    "print('Pvalue: ', p_val)"
   ]
  },
  {
   "cell_type": "code",
   "execution_count": null,
   "metadata": {
    "colab": {
     "base_uri": "https://localhost:8080/"
    },
    "id": "iICrXePeJnqY",
    "outputId": "188d0f98-d197-4961-d529-0ca438acc929"
   },
   "outputs": [
    {
     "name": "stdout",
     "output_type": "stream",
     "text": [
      "The three groups are having different mean\n"
     ]
    }
   ],
   "source": [
    "if p_val > 0.05:\n",
    "  print(' The three group are having equal mean')\n",
    "else:\n",
    "  print('The three groups are having different mean')"
   ]
  },
  {
   "cell_type": "markdown",
   "metadata": {
    "id": "vi17lrtfKA4Y"
   },
   "source": [
    "**Two Way Test**"
   ]
  },
  {
   "cell_type": "code",
   "execution_count": null,
   "metadata": {
    "id": "3evca0cSJuT0"
   },
   "outputs": [],
   "source": [
    "data = {\n",
    "    'Fertilizer': ['Organic', 'Organic', 'Organic', 'Organic', 'InOrganic', 'InOrganic', 'InOrganic', 'InOrganic'],\n",
    "    'Watering':['Low', 'High', 'Low', 'High', 'Low', 'High', 'Low', 'High'],\n",
    "    'Height': [20, 22, 21, 25, 28, 24, 18, 19]\n",
    "}"
   ]
  },
  {
   "cell_type": "code",
   "execution_count": null,
   "metadata": {
    "id": "LDJW74DZKucZ"
   },
   "outputs": [],
   "source": [
    "df= pd.DataFrame(data)"
   ]
  },
  {
   "cell_type": "code",
   "execution_count": null,
   "metadata": {
    "colab": {
     "base_uri": "https://localhost:8080/",
     "height": 300
    },
    "id": "qVoZlCx0LIhX",
    "outputId": "9cf2e951-540b-456d-e9d3-7e439a271e60"
   },
   "outputs": [
    {
     "data": {
      "application/vnd.google.colaboratory.intrinsic+json": {
       "summary": "{\n  \"name\": \"df\",\n  \"rows\": 8,\n  \"fields\": [\n    {\n      \"column\": \"Fertilizer\",\n      \"properties\": {\n        \"dtype\": \"category\",\n        \"num_unique_values\": 2,\n        \"samples\": [\n          \"InOrganic\",\n          \"Organic\"\n        ],\n        \"semantic_type\": \"\",\n        \"description\": \"\"\n      }\n    },\n    {\n      \"column\": \"Watering\",\n      \"properties\": {\n        \"dtype\": \"category\",\n        \"num_unique_values\": 2,\n        \"samples\": [\n          \"High\",\n          \"Low\"\n        ],\n        \"semantic_type\": \"\",\n        \"description\": \"\"\n      }\n    },\n    {\n      \"column\": \"Height\",\n      \"properties\": {\n        \"dtype\": \"number\",\n        \"std\": 3,\n        \"min\": 18,\n        \"max\": 28,\n        \"num_unique_values\": 8,\n        \"samples\": [\n          22,\n          24\n        ],\n        \"semantic_type\": \"\",\n        \"description\": \"\"\n      }\n    }\n  ]\n}",
       "type": "dataframe",
       "variable_name": "df"
      },
      "text/html": [
       "\n",
       "  <div id=\"df-1a3b294e-bc29-463f-b19c-6d40127f2ff3\" class=\"colab-df-container\">\n",
       "    <div>\n",
       "<style scoped>\n",
       "    .dataframe tbody tr th:only-of-type {\n",
       "        vertical-align: middle;\n",
       "    }\n",
       "\n",
       "    .dataframe tbody tr th {\n",
       "        vertical-align: top;\n",
       "    }\n",
       "\n",
       "    .dataframe thead th {\n",
       "        text-align: right;\n",
       "    }\n",
       "</style>\n",
       "<table border=\"1\" class=\"dataframe\">\n",
       "  <thead>\n",
       "    <tr style=\"text-align: right;\">\n",
       "      <th></th>\n",
       "      <th>Fertilizer</th>\n",
       "      <th>Watering</th>\n",
       "      <th>Height</th>\n",
       "    </tr>\n",
       "  </thead>\n",
       "  <tbody>\n",
       "    <tr>\n",
       "      <th>0</th>\n",
       "      <td>Organic</td>\n",
       "      <td>Low</td>\n",
       "      <td>20</td>\n",
       "    </tr>\n",
       "    <tr>\n",
       "      <th>1</th>\n",
       "      <td>Organic</td>\n",
       "      <td>High</td>\n",
       "      <td>22</td>\n",
       "    </tr>\n",
       "    <tr>\n",
       "      <th>2</th>\n",
       "      <td>Organic</td>\n",
       "      <td>Low</td>\n",
       "      <td>21</td>\n",
       "    </tr>\n",
       "    <tr>\n",
       "      <th>3</th>\n",
       "      <td>Organic</td>\n",
       "      <td>High</td>\n",
       "      <td>25</td>\n",
       "    </tr>\n",
       "    <tr>\n",
       "      <th>4</th>\n",
       "      <td>InOrganic</td>\n",
       "      <td>Low</td>\n",
       "      <td>28</td>\n",
       "    </tr>\n",
       "    <tr>\n",
       "      <th>5</th>\n",
       "      <td>InOrganic</td>\n",
       "      <td>High</td>\n",
       "      <td>24</td>\n",
       "    </tr>\n",
       "    <tr>\n",
       "      <th>6</th>\n",
       "      <td>InOrganic</td>\n",
       "      <td>Low</td>\n",
       "      <td>18</td>\n",
       "    </tr>\n",
       "    <tr>\n",
       "      <th>7</th>\n",
       "      <td>InOrganic</td>\n",
       "      <td>High</td>\n",
       "      <td>19</td>\n",
       "    </tr>\n",
       "  </tbody>\n",
       "</table>\n",
       "</div>\n",
       "    <div class=\"colab-df-buttons\">\n",
       "\n",
       "  <div class=\"colab-df-container\">\n",
       "    <button class=\"colab-df-convert\" onclick=\"convertToInteractive('df-1a3b294e-bc29-463f-b19c-6d40127f2ff3')\"\n",
       "            title=\"Convert this dataframe to an interactive table.\"\n",
       "            style=\"display:none;\">\n",
       "\n",
       "  <svg xmlns=\"http://www.w3.org/2000/svg\" height=\"24px\" viewBox=\"0 -960 960 960\">\n",
       "    <path d=\"M120-120v-720h720v720H120Zm60-500h600v-160H180v160Zm220 220h160v-160H400v160Zm0 220h160v-160H400v160ZM180-400h160v-160H180v160Zm440 0h160v-160H620v160ZM180-180h160v-160H180v160Zm440 0h160v-160H620v160Z\"/>\n",
       "  </svg>\n",
       "    </button>\n",
       "\n",
       "  <style>\n",
       "    .colab-df-container {\n",
       "      display:flex;\n",
       "      gap: 12px;\n",
       "    }\n",
       "\n",
       "    .colab-df-convert {\n",
       "      background-color: #E8F0FE;\n",
       "      border: none;\n",
       "      border-radius: 50%;\n",
       "      cursor: pointer;\n",
       "      display: none;\n",
       "      fill: #1967D2;\n",
       "      height: 32px;\n",
       "      padding: 0 0 0 0;\n",
       "      width: 32px;\n",
       "    }\n",
       "\n",
       "    .colab-df-convert:hover {\n",
       "      background-color: #E2EBFA;\n",
       "      box-shadow: 0px 1px 2px rgba(60, 64, 67, 0.3), 0px 1px 3px 1px rgba(60, 64, 67, 0.15);\n",
       "      fill: #174EA6;\n",
       "    }\n",
       "\n",
       "    .colab-df-buttons div {\n",
       "      margin-bottom: 4px;\n",
       "    }\n",
       "\n",
       "    [theme=dark] .colab-df-convert {\n",
       "      background-color: #3B4455;\n",
       "      fill: #D2E3FC;\n",
       "    }\n",
       "\n",
       "    [theme=dark] .colab-df-convert:hover {\n",
       "      background-color: #434B5C;\n",
       "      box-shadow: 0px 1px 3px 1px rgba(0, 0, 0, 0.15);\n",
       "      filter: drop-shadow(0px 1px 2px rgba(0, 0, 0, 0.3));\n",
       "      fill: #FFFFFF;\n",
       "    }\n",
       "  </style>\n",
       "\n",
       "    <script>\n",
       "      const buttonEl =\n",
       "        document.querySelector('#df-1a3b294e-bc29-463f-b19c-6d40127f2ff3 button.colab-df-convert');\n",
       "      buttonEl.style.display =\n",
       "        google.colab.kernel.accessAllowed ? 'block' : 'none';\n",
       "\n",
       "      async function convertToInteractive(key) {\n",
       "        const element = document.querySelector('#df-1a3b294e-bc29-463f-b19c-6d40127f2ff3');\n",
       "        const dataTable =\n",
       "          await google.colab.kernel.invokeFunction('convertToInteractive',\n",
       "                                                    [key], {});\n",
       "        if (!dataTable) return;\n",
       "\n",
       "        const docLinkHtml = 'Like what you see? Visit the ' +\n",
       "          '<a target=\"_blank\" href=https://colab.research.google.com/notebooks/data_table.ipynb>data table notebook</a>'\n",
       "          + ' to learn more about interactive tables.';\n",
       "        element.innerHTML = '';\n",
       "        dataTable['output_type'] = 'display_data';\n",
       "        await google.colab.output.renderOutput(dataTable, element);\n",
       "        const docLink = document.createElement('div');\n",
       "        docLink.innerHTML = docLinkHtml;\n",
       "        element.appendChild(docLink);\n",
       "      }\n",
       "    </script>\n",
       "  </div>\n",
       "\n",
       "\n",
       "<div id=\"df-d0a41991-b186-49f4-bae1-291f01c2518b\">\n",
       "  <button class=\"colab-df-quickchart\" onclick=\"quickchart('df-d0a41991-b186-49f4-bae1-291f01c2518b')\"\n",
       "            title=\"Suggest charts\"\n",
       "            style=\"display:none;\">\n",
       "\n",
       "<svg xmlns=\"http://www.w3.org/2000/svg\" height=\"24px\"viewBox=\"0 0 24 24\"\n",
       "     width=\"24px\">\n",
       "    <g>\n",
       "        <path d=\"M19 3H5c-1.1 0-2 .9-2 2v14c0 1.1.9 2 2 2h14c1.1 0 2-.9 2-2V5c0-1.1-.9-2-2-2zM9 17H7v-7h2v7zm4 0h-2V7h2v10zm4 0h-2v-4h2v4z\"/>\n",
       "    </g>\n",
       "</svg>\n",
       "  </button>\n",
       "\n",
       "<style>\n",
       "  .colab-df-quickchart {\n",
       "      --bg-color: #E8F0FE;\n",
       "      --fill-color: #1967D2;\n",
       "      --hover-bg-color: #E2EBFA;\n",
       "      --hover-fill-color: #174EA6;\n",
       "      --disabled-fill-color: #AAA;\n",
       "      --disabled-bg-color: #DDD;\n",
       "  }\n",
       "\n",
       "  [theme=dark] .colab-df-quickchart {\n",
       "      --bg-color: #3B4455;\n",
       "      --fill-color: #D2E3FC;\n",
       "      --hover-bg-color: #434B5C;\n",
       "      --hover-fill-color: #FFFFFF;\n",
       "      --disabled-bg-color: #3B4455;\n",
       "      --disabled-fill-color: #666;\n",
       "  }\n",
       "\n",
       "  .colab-df-quickchart {\n",
       "    background-color: var(--bg-color);\n",
       "    border: none;\n",
       "    border-radius: 50%;\n",
       "    cursor: pointer;\n",
       "    display: none;\n",
       "    fill: var(--fill-color);\n",
       "    height: 32px;\n",
       "    padding: 0;\n",
       "    width: 32px;\n",
       "  }\n",
       "\n",
       "  .colab-df-quickchart:hover {\n",
       "    background-color: var(--hover-bg-color);\n",
       "    box-shadow: 0 1px 2px rgba(60, 64, 67, 0.3), 0 1px 3px 1px rgba(60, 64, 67, 0.15);\n",
       "    fill: var(--button-hover-fill-color);\n",
       "  }\n",
       "\n",
       "  .colab-df-quickchart-complete:disabled,\n",
       "  .colab-df-quickchart-complete:disabled:hover {\n",
       "    background-color: var(--disabled-bg-color);\n",
       "    fill: var(--disabled-fill-color);\n",
       "    box-shadow: none;\n",
       "  }\n",
       "\n",
       "  .colab-df-spinner {\n",
       "    border: 2px solid var(--fill-color);\n",
       "    border-color: transparent;\n",
       "    border-bottom-color: var(--fill-color);\n",
       "    animation:\n",
       "      spin 1s steps(1) infinite;\n",
       "  }\n",
       "\n",
       "  @keyframes spin {\n",
       "    0% {\n",
       "      border-color: transparent;\n",
       "      border-bottom-color: var(--fill-color);\n",
       "      border-left-color: var(--fill-color);\n",
       "    }\n",
       "    20% {\n",
       "      border-color: transparent;\n",
       "      border-left-color: var(--fill-color);\n",
       "      border-top-color: var(--fill-color);\n",
       "    }\n",
       "    30% {\n",
       "      border-color: transparent;\n",
       "      border-left-color: var(--fill-color);\n",
       "      border-top-color: var(--fill-color);\n",
       "      border-right-color: var(--fill-color);\n",
       "    }\n",
       "    40% {\n",
       "      border-color: transparent;\n",
       "      border-right-color: var(--fill-color);\n",
       "      border-top-color: var(--fill-color);\n",
       "    }\n",
       "    60% {\n",
       "      border-color: transparent;\n",
       "      border-right-color: var(--fill-color);\n",
       "    }\n",
       "    80% {\n",
       "      border-color: transparent;\n",
       "      border-right-color: var(--fill-color);\n",
       "      border-bottom-color: var(--fill-color);\n",
       "    }\n",
       "    90% {\n",
       "      border-color: transparent;\n",
       "      border-bottom-color: var(--fill-color);\n",
       "    }\n",
       "  }\n",
       "</style>\n",
       "\n",
       "  <script>\n",
       "    async function quickchart(key) {\n",
       "      const quickchartButtonEl =\n",
       "        document.querySelector('#' + key + ' button');\n",
       "      quickchartButtonEl.disabled = true;  // To prevent multiple clicks.\n",
       "      quickchartButtonEl.classList.add('colab-df-spinner');\n",
       "      try {\n",
       "        const charts = await google.colab.kernel.invokeFunction(\n",
       "            'suggestCharts', [key], {});\n",
       "      } catch (error) {\n",
       "        console.error('Error during call to suggestCharts:', error);\n",
       "      }\n",
       "      quickchartButtonEl.classList.remove('colab-df-spinner');\n",
       "      quickchartButtonEl.classList.add('colab-df-quickchart-complete');\n",
       "    }\n",
       "    (() => {\n",
       "      let quickchartButtonEl =\n",
       "        document.querySelector('#df-d0a41991-b186-49f4-bae1-291f01c2518b button');\n",
       "      quickchartButtonEl.style.display =\n",
       "        google.colab.kernel.accessAllowed ? 'block' : 'none';\n",
       "    })();\n",
       "  </script>\n",
       "</div>\n",
       "\n",
       "  <div id=\"id_d77a491c-4f73-47a1-a52c-0f04d5e2ecd4\">\n",
       "    <style>\n",
       "      .colab-df-generate {\n",
       "        background-color: #E8F0FE;\n",
       "        border: none;\n",
       "        border-radius: 50%;\n",
       "        cursor: pointer;\n",
       "        display: none;\n",
       "        fill: #1967D2;\n",
       "        height: 32px;\n",
       "        padding: 0 0 0 0;\n",
       "        width: 32px;\n",
       "      }\n",
       "\n",
       "      .colab-df-generate:hover {\n",
       "        background-color: #E2EBFA;\n",
       "        box-shadow: 0px 1px 2px rgba(60, 64, 67, 0.3), 0px 1px 3px 1px rgba(60, 64, 67, 0.15);\n",
       "        fill: #174EA6;\n",
       "      }\n",
       "\n",
       "      [theme=dark] .colab-df-generate {\n",
       "        background-color: #3B4455;\n",
       "        fill: #D2E3FC;\n",
       "      }\n",
       "\n",
       "      [theme=dark] .colab-df-generate:hover {\n",
       "        background-color: #434B5C;\n",
       "        box-shadow: 0px 1px 3px 1px rgba(0, 0, 0, 0.15);\n",
       "        filter: drop-shadow(0px 1px 2px rgba(0, 0, 0, 0.3));\n",
       "        fill: #FFFFFF;\n",
       "      }\n",
       "    </style>\n",
       "    <button class=\"colab-df-generate\" onclick=\"generateWithVariable('df')\"\n",
       "            title=\"Generate code using this dataframe.\"\n",
       "            style=\"display:none;\">\n",
       "\n",
       "  <svg xmlns=\"http://www.w3.org/2000/svg\" height=\"24px\"viewBox=\"0 0 24 24\"\n",
       "       width=\"24px\">\n",
       "    <path d=\"M7,19H8.4L18.45,9,17,7.55,7,17.6ZM5,21V16.75L18.45,3.32a2,2,0,0,1,2.83,0l1.4,1.43a1.91,1.91,0,0,1,.58,1.4,1.91,1.91,0,0,1-.58,1.4L9.25,21ZM18.45,9,17,7.55Zm-12,3A5.31,5.31,0,0,0,4.9,8.1,5.31,5.31,0,0,0,1,6.5,5.31,5.31,0,0,0,4.9,4.9,5.31,5.31,0,0,0,6.5,1,5.31,5.31,0,0,0,8.1,4.9,5.31,5.31,0,0,0,12,6.5,5.46,5.46,0,0,0,6.5,12Z\"/>\n",
       "  </svg>\n",
       "    </button>\n",
       "    <script>\n",
       "      (() => {\n",
       "      const buttonEl =\n",
       "        document.querySelector('#id_d77a491c-4f73-47a1-a52c-0f04d5e2ecd4 button.colab-df-generate');\n",
       "      buttonEl.style.display =\n",
       "        google.colab.kernel.accessAllowed ? 'block' : 'none';\n",
       "\n",
       "      buttonEl.onclick = () => {\n",
       "        google.colab.notebook.generateWithVariable('df');\n",
       "      }\n",
       "      })();\n",
       "    </script>\n",
       "  </div>\n",
       "\n",
       "    </div>\n",
       "  </div>\n"
      ],
      "text/plain": [
       "  Fertilizer Watering  Height\n",
       "0    Organic      Low      20\n",
       "1    Organic     High      22\n",
       "2    Organic      Low      21\n",
       "3    Organic     High      25\n",
       "4  InOrganic      Low      28\n",
       "5  InOrganic     High      24\n",
       "6  InOrganic      Low      18\n",
       "7  InOrganic     High      19"
      ]
     },
     "execution_count": 35,
     "metadata": {},
     "output_type": "execute_result"
    }
   ],
   "source": [
    "df"
   ]
  },
  {
   "cell_type": "code",
   "execution_count": null,
   "metadata": {
    "id": "E4MlyJWRLPDL"
   },
   "outputs": [],
   "source": [
    "_, p_val1 = st.f_oneway(df[df['Fertilizer']=='Organic']['Height'],\n",
    "                    df[df['Fertilizer']=='InOrganic']['Height'])\n",
    "\n",
    "_, p_val2 = st.f_oneway(df[df['Watering']=='Low']['Height'],\n",
    "                    df[df['Watering']=='High']['Height'])"
   ]
  },
  {
   "cell_type": "code",
   "execution_count": null,
   "metadata": {
    "colab": {
     "base_uri": "https://localhost:8080/"
    },
    "id": "lHamrm_x-OAu",
    "outputId": "6e40b581-181c-4176-b787-868b649659cd"
   },
   "outputs": [
    {
     "data": {
      "text/plain": [
       "(0.9254362527404735, 0.778192439842158)"
      ]
     },
     "execution_count": 40,
     "metadata": {},
     "output_type": "execute_result"
    }
   ],
   "source": [
    "p_val1, p_val2"
   ]
  },
  {
   "cell_type": "code",
   "execution_count": null,
   "metadata": {
    "id": "NnYuO3eq-edd"
   },
   "outputs": [],
   "source": []
  }
 ],
 "metadata": {
  "colab": {
   "provenance": []
  },
  "kernelspec": {
   "display_name": "Python 3",
   "language": "python",
   "name": "python3"
  },
  "language_info": {
   "codemirror_mode": {
    "name": "ipython",
    "version": 3
   },
   "file_extension": ".py",
   "mimetype": "text/x-python",
   "name": "python",
   "nbconvert_exporter": "python",
   "pygments_lexer": "ipython3",
   "version": "3.6.8"
  }
 },
 "nbformat": 4,
 "nbformat_minor": 1
}
