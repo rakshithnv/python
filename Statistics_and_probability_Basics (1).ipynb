{
 "cells": [
  {
   "cell_type": "markdown",
   "metadata": {
    "id": "FawF3xI__48n"
   },
   "source": [
    "***Stats or Statistics*** -  It is a branch of mathemathics that deals with Collection of data , presentation of our data and later on analyzation of our data to extract some meaningful information of our use"
   ]
  },
  {
   "cell_type": "markdown",
   "metadata": {
    "id": "hFUhqSdQAZGR"
   },
   "source": [
    "1) **Descriptive stats** - It is a branch of stats that deals with Collection of data , presentation of data and interpretation of data.\n",
    "\n",
    "-> **Measure of central tendacy** - It is used to indicate where does the cener of distribution of our data lies\n",
    "1- **Mean** = average\n",
    "2- **Mode** = Frequency , Most frequent data point/Value\n",
    "3- **Median** = Middle value or Mid point of our data\n",
    "\n",
    "\n",
    "-> **Measure of dispersion** - It is used to measure how much our data is scaterred or how much our data is dispersed in all the direction\n",
    "1- **Range** -  Range is the difference between Minimum and Maximum value of your dataset\n",
    "2- **Variance** -  It is used to measure how far a set of number/data point are spread out from their average/mean value\n",
    "3- **standard deviation** - square root of variance\n",
    "4- **Outliers** - Any data point lying outside my IQR range ( Inter Quartile range) or outside the lower and upper fence\n",
    "\n",
    "5- **Percentile** -  It will divide the dataset into 100 equal parts\n",
    "\n",
    "6- **Quartiles** - It divides the dataset into equal parts\n",
    "Q1 - 25th percentile\n",
    "Q2 - 50th percentile\n",
    "Q3 - 75th percentile\n",
    "Q4 - 100t percentile\n",
    "\n",
    "7- **Corelation** - It measured the linear relationship between two variable\n",
    "\n",
    "\n",
    "\n",
    "2) **Inferential stats **- It is a branch of stats that deals with making prediction and drawing conclusion based on our sample data\n",
    "\n",
    "\n",
    "-> Hypothesis Testing\n",
    "\n",
    "-> Regression analysis"
   ]
  },
  {
   "cell_type": "code",
   "execution_count": 1,
   "metadata": {
    "colab": {
     "base_uri": "https://localhost:8080/"
    },
    "id": "Q-MeG50vCm0j",
    "outputId": "48f10a01-6b02-4aea-da20-544ee49c2035"
   },
   "outputs": [
    {
     "name": "stdout",
     "output_type": "stream",
     "text": [
      "30.0\n",
      "30\n"
     ]
    }
   ],
   "source": [
    "data=[10,20,30,40,50]\n",
    "\n",
    "# Mean - Average\n",
    "''' sum of all numbers/ total no of numbers\n",
    "(10+20+30+40+50)/5 = 150/5 = 30\n",
    "'''\n",
    "\n",
    "import numpy as np\n",
    "import statistics\n",
    "\n",
    "mean=np.mean(data)\n",
    "print(mean)\n",
    "\n",
    "mean2=statistics.mean(data)\n",
    "print(mean2)\n"
   ]
  },
  {
   "cell_type": "code",
   "execution_count": 2,
   "metadata": {
    "colab": {
     "base_uri": "https://localhost:8080/"
    },
    "id": "v6GYD1XfD-QY",
    "outputId": "e6bd16d9-1b3b-4eef-86f5-c524172aa34b"
   },
   "outputs": [
    {
     "name": "stdout",
     "output_type": "stream",
     "text": [
      "30.0\n",
      "35.0\n"
     ]
    }
   ],
   "source": [
    "# Median - Middle value\n",
    "'''\n",
    "1) Your data should be sorted in ascending order\n",
    "\n",
    "Even - n/2\n",
    "Odd - (n+1)/2\n",
    "------------------------------------------------\n",
    "data=[10,20,30,40,50]\n",
    "\n",
    "n=len of our data / total no of values\n",
    "n=5\n",
    "\n",
    "Median = (5+1)/2 = 6/2 = 3\n",
    "Median od odd is 30\n",
    "----------------------------------------------\n",
    "data=[10,20,30,40,50,60]\n",
    "n=6\n",
    "Median of even values =  (  middle value + (middle value+1)   ) /2\n",
    "                             (30+40)/2 = 70/2=35\n",
    "\n",
    "'''\n",
    "import numpy as np\n",
    "import statistics\n",
    "data=[50,40,10,30,20]\n",
    "\n",
    "median1=np.median(data)\n",
    "print(median1)\n",
    "\n",
    "data2=[60,50,10,20,30,40]\n",
    "median2=np.median(data2)\n",
    "print(median2)\n"
   ]
  },
  {
   "cell_type": "code",
   "execution_count": 8,
   "metadata": {
    "colab": {
     "base_uri": "https://localhost:8080/"
    },
    "id": "0cv5Qy2HGqFA",
    "outputId": "95ddcdcc-ffc9-4a4a-a007-e1afbad3b1b8"
   },
   "outputs": [
    {
     "ename": "StatisticsError",
     "evalue": "no unique mode; found 7 equally common values",
     "output_type": "error",
     "traceback": [
      "\u001b[1;31m---------------------------------------------------------------------------\u001b[0m",
      "\u001b[1;31mStatisticsError\u001b[0m                           Traceback (most recent call last)",
      "\u001b[1;32m<ipython-input-8-f9abe7f50e63>\u001b[0m in \u001b[0;36m<module>\u001b[1;34m\u001b[0m\n\u001b[0;32m     40\u001b[0m \u001b[1;33m\u001b[0m\u001b[0m\n\u001b[0;32m     41\u001b[0m \u001b[0mdata2\u001b[0m\u001b[1;33m=\u001b[0m\u001b[1;33m[\u001b[0m\u001b[1;36m20\u001b[0m\u001b[1;33m,\u001b[0m\u001b[1;36m30\u001b[0m\u001b[1;33m,\u001b[0m\u001b[1;36m40\u001b[0m\u001b[1;33m,\u001b[0m\u001b[1;36m50\u001b[0m\u001b[1;33m,\u001b[0m\u001b[1;36m10\u001b[0m\u001b[1;33m,\u001b[0m\u001b[1;36m60\u001b[0m\u001b[1;33m,\u001b[0m\u001b[1;36m70\u001b[0m\u001b[1;33m]\u001b[0m\u001b[1;33m\u001b[0m\u001b[1;33m\u001b[0m\u001b[0m\n\u001b[1;32m---> 42\u001b[1;33m \u001b[0mmode2\u001b[0m\u001b[1;33m=\u001b[0m\u001b[0mstatistics\u001b[0m\u001b[1;33m.\u001b[0m\u001b[0mmode\u001b[0m\u001b[1;33m(\u001b[0m\u001b[0mdata2\u001b[0m\u001b[1;33m)\u001b[0m\u001b[1;33m\u001b[0m\u001b[1;33m\u001b[0m\u001b[0m\n\u001b[0m\u001b[0;32m     43\u001b[0m \u001b[0mprint\u001b[0m\u001b[1;33m(\u001b[0m\u001b[0mmode2\u001b[0m\u001b[1;33m)\u001b[0m\u001b[1;33m\u001b[0m\u001b[1;33m\u001b[0m\u001b[0m\n",
      "\u001b[1;32mc:\\users\\rakshith\\appdata\\local\\programs\\python\\python36\\lib\\statistics.py\u001b[0m in \u001b[0;36mmode\u001b[1;34m(data)\u001b[0m\n\u001b[0;32m    505\u001b[0m     \u001b[1;32melif\u001b[0m \u001b[0mtable\u001b[0m\u001b[1;33m:\u001b[0m\u001b[1;33m\u001b[0m\u001b[1;33m\u001b[0m\u001b[0m\n\u001b[0;32m    506\u001b[0m         raise StatisticsError(\n\u001b[1;32m--> 507\u001b[1;33m                 \u001b[1;34m'no unique mode; found %d equally common values'\u001b[0m \u001b[1;33m%\u001b[0m \u001b[0mlen\u001b[0m\u001b[1;33m(\u001b[0m\u001b[0mtable\u001b[0m\u001b[1;33m)\u001b[0m\u001b[1;33m\u001b[0m\u001b[1;33m\u001b[0m\u001b[0m\n\u001b[0m\u001b[0;32m    508\u001b[0m                 )\n\u001b[0;32m    509\u001b[0m     \u001b[1;32melse\u001b[0m\u001b[1;33m:\u001b[0m\u001b[1;33m\u001b[0m\u001b[1;33m\u001b[0m\u001b[0m\n",
      "\u001b[1;31mStatisticsError\u001b[0m: no unique mode; found 7 equally common values"
     ]
    }
   ],
   "source": [
    "# Mode\n",
    "''' Most frequent data point , Most occuring element\n",
    "\n",
    "data=[10,20,30,10,10,30,40,50,60,70,70]\n",
    "Mode = 10\n",
    "Frequency of 10 =3\n",
    "Frequncy of 20 = 1\n",
    "            30 = 2\n",
    "            40=1\n",
    "            50=1\n",
    "            60=1\n",
    "            70=2\n",
    "\n",
    "\n",
    "data=[10,20,20,20,30,40,10,10]\n",
    "frequency of 10 = 3\n",
    "frequency of 20 = 3\n",
    "Now what will be our Mode ?\n",
    "Mode = 10 ( First occuring number or number present at first place)\n",
    "\n",
    "\n",
    "\n",
    "data=[20,30,40,50,10,60,70]\n",
    "Mode ?\n",
    "First number in case of all elements having same frequncy\n",
    "\n",
    "'''\n",
    "\n",
    "# data=[10,20,30,10,10,30,40,50,60,70,70]\n",
    "\n",
    "# # Dont use numpy library\n",
    "# mode=statistics.mode(data)\n",
    "# print(mode)\n",
    "\n",
    "\n",
    "# data=[10,20,20,20,30,40,10,10]\n",
    "# mode=statistics.mode(data)\n",
    "# print(mode)\n",
    "\n",
    "\n",
    "data2=[20,30,40,50,10,60,70]\n",
    "mode2=statistics.mode(data2)\n",
    "print(mode2)\n"
   ]
  },
  {
   "cell_type": "code",
   "execution_count": 9,
   "metadata": {
    "colab": {
     "base_uri": "https://localhost:8080/"
    },
    "id": "Z4MuXQtMKsFc",
    "outputId": "ab209e31-9938-4cc9-93cb-6d4f97291f27"
   },
   "outputs": [
    {
     "name": "stdout",
     "output_type": "stream",
     "text": [
      "12\n",
      "12\n"
     ]
    }
   ],
   "source": [
    "# Range\n",
    "data=[80,85,90,92,88]\n",
    "'''\n",
    "Range = Max value - Min value (92-80)=12\n",
    " Max value = 92\n",
    " Min value = 80\n",
    "'''\n",
    "\n",
    "range=np.ptp(data)  # ptp is the name of function of numpy to calculate range\n",
    "print(range)\n",
    "\n",
    "\n",
    "range2=max(data) - min(data)\n",
    "print(range2)"
   ]
  },
  {
   "cell_type": "code",
   "execution_count": 10,
   "metadata": {
    "colab": {
     "base_uri": "https://localhost:8080/",
     "height": 215
    },
    "id": "Pf0PS-PULmUg",
    "outputId": "87128e58-b210-41cc-e2df-ff8e76d23a50"
   },
   "outputs": [
    {
     "ename": "AttributeError",
     "evalue": "module 'statistics' has no attribute 'ptp'",
     "output_type": "error",
     "traceback": [
      "\u001b[1;31m---------------------------------------------------------------------------\u001b[0m",
      "\u001b[1;31mAttributeError\u001b[0m                            Traceback (most recent call last)",
      "\u001b[1;32m<ipython-input-10-6645bfb483be>\u001b[0m in \u001b[0;36m<module>\u001b[1;34m\u001b[0m\n\u001b[0;32m      1\u001b[0m \u001b[1;31m# No function of statistics library\u001b[0m\u001b[1;33m\u001b[0m\u001b[1;33m\u001b[0m\u001b[1;33m\u001b[0m\u001b[0m\n\u001b[0;32m      2\u001b[0m \u001b[0mdata6\u001b[0m\u001b[1;33m=\u001b[0m\u001b[1;33m[\u001b[0m\u001b[1;36m92\u001b[0m\u001b[1;33m,\u001b[0m\u001b[1;36m85\u001b[0m\u001b[1;33m,\u001b[0m\u001b[1;36m45\u001b[0m\u001b[1;33m,\u001b[0m\u001b[1;36m99\u001b[0m\u001b[1;33m,\u001b[0m\u001b[1;36m55\u001b[0m\u001b[1;33m]\u001b[0m\u001b[1;33m\u001b[0m\u001b[1;33m\u001b[0m\u001b[0m\n\u001b[1;32m----> 3\u001b[1;33m \u001b[0mrange_data6\u001b[0m\u001b[1;33m=\u001b[0m\u001b[0mstatistics\u001b[0m\u001b[1;33m.\u001b[0m\u001b[0mptp\u001b[0m\u001b[1;33m(\u001b[0m\u001b[0mdata6\u001b[0m\u001b[1;33m)\u001b[0m\u001b[1;33m\u001b[0m\u001b[1;33m\u001b[0m\u001b[0m\n\u001b[0m\u001b[0;32m      4\u001b[0m \u001b[0mprint\u001b[0m\u001b[1;33m(\u001b[0m\u001b[0mrange_data6\u001b[0m\u001b[1;33m)\u001b[0m\u001b[1;33m\u001b[0m\u001b[1;33m\u001b[0m\u001b[0m\n",
      "\u001b[1;31mAttributeError\u001b[0m: module 'statistics' has no attribute 'ptp'"
     ]
    }
   ],
   "source": [
    "# No function of statistics library\n",
    "data6=[92,85,45,99,55]\n",
    "range_data6=statistics.ptp(data6)\n",
    "print(range_data6)"
   ]
  },
  {
   "cell_type": "markdown",
   "metadata": {
    "id": "3XSsGR1PMMrT"
   },
   "source": [
    "***Variance***"
   ]
  },
  {
   "cell_type": "code",
   "execution_count": 11,
   "metadata": {
    "colab": {
     "base_uri": "https://localhost:8080/",
     "height": 54
    },
    "id": "hCBEkKj9MOqN",
    "outputId": "2aabecbf-a848-44a5-c7ba-9fc519bd36c8"
   },
   "outputs": [
    {
     "name": "stdout",
     "output_type": "stream",
     "text": [
      "17.6\n"
     ]
    },
    {
     "data": {
      "text/plain": [
       "'variance2=statistics.variance(data)\\nprint(variance2)'"
      ]
     },
     "execution_count": 11,
     "metadata": {},
     "output_type": "execute_result"
    }
   ],
   "source": [
    "data=[80,85,90,92,88]\n",
    "\n",
    "# mean = 87\n",
    "'''\n",
    "Mean =\n",
    "variance= ( (80-87)**2 + (85-87)**2 + (90-87)**2 + (92-87)**2 + (88-87)**2  ) / 5  =\n",
    "            49+4+9+25+1 = 88/5 = 17.6\n",
    "\n",
    "'''\n",
    "variance=np.var(data)\n",
    "print(variance)\n",
    "\n",
    "\n",
    "# Use numpy library only for more accurate result\n",
    "'''variance2=statistics.variance(data)\n",
    "print(variance2)'''"
   ]
  },
  {
   "cell_type": "code",
   "execution_count": 12,
   "metadata": {
    "colab": {
     "base_uri": "https://localhost:8080/"
    },
    "id": "l8YCg3vIPTYk",
    "outputId": "03e1fc7d-b992-4a22-a4cb-a21d984ae608"
   },
   "outputs": [
    {
     "name": "stdout",
     "output_type": "stream",
     "text": [
      "241.2\n"
     ]
    }
   ],
   "source": [
    "# code check for variace\n",
    "\n",
    "data=[53,85,67,82,98]\n",
    "# mean = 77\n",
    "\n",
    "# variance = ( (53-77)**2 + (85-77)**2 + (67-77)**2 + (82-77)**2 + (98-77)**2   )/5\n",
    "#          = 576 +64+100+25+441 = 1206/5 = 241.2\n",
    "\n",
    "variance=np.var(data)\n",
    "print(variance)\n",
    "\n"
   ]
  },
  {
   "cell_type": "markdown",
   "metadata": {
    "id": "2E2iiWHfQnTm"
   },
   "source": [
    "**Standard Deviation ( square root of variance)**"
   ]
  },
  {
   "cell_type": "code",
   "execution_count": 13,
   "metadata": {
    "colab": {
     "base_uri": "https://localhost:8080/"
    },
    "id": "hxcOY-FDQs4Z",
    "outputId": "5b613a03-1b86-4bc9-8109-a4ad888b0ec2"
   },
   "outputs": [
    {
     "name": "stdout",
     "output_type": "stream",
     "text": [
      "15.53061492665374\n",
      "17.363755354185336\n"
     ]
    }
   ],
   "source": [
    "# std - sqrt root (241.2) = 15.52\n",
    "\n",
    "data=[53,85,67,82,98]\n",
    "standard_deviation = np.std(data)\n",
    "print(standard_deviation)\n",
    "\n",
    "# stats library\n",
    "std2=statistics.stdev(data)\n",
    "print(std2)\n"
   ]
  },
  {
   "cell_type": "code",
   "execution_count": null,
   "metadata": {},
   "outputs": [],
   "source": [
    " "
   ]
  }
 ],
 "metadata": {
  "colab": {
   "provenance": []
  },
  "kernelspec": {
   "display_name": "Python 3",
   "language": "python",
   "name": "python3"
  },
  "language_info": {
   "codemirror_mode": {
    "name": "ipython",
    "version": 3
   },
   "file_extension": ".py",
   "mimetype": "text/x-python",
   "name": "python",
   "nbconvert_exporter": "python",
   "pygments_lexer": "ipython3",
   "version": "3.6.8"
  }
 },
 "nbformat": 4,
 "nbformat_minor": 1
}
